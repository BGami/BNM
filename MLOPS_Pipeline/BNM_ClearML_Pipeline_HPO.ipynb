{
  "cells": [
    {
      "cell_type": "code",
      "execution_count": null,
      "id": "KBIjQ-prm0BZ",
      "metadata": {
        "colab": {
          "base_uri": "https://localhost:8080/"
        },
        "id": "KBIjQ-prm0BZ",
        "outputId": "4b22e1bd-41a4-4f9d-8dfb-1996ef2f559a"
      },
      "outputs": [
        {
          "output_type": "stream",
          "name": "stdout",
          "text": [
            "Mounted at /content/drive\n"
          ]
        }
      ],
      "source": [
        "from google.colab import drive\n",
        "drive.mount('/content/drive')"
      ]
    },
    {
      "cell_type": "code",
      "execution_count": null,
      "id": "pmR7ysA0pXTh",
      "metadata": {
        "colab": {
          "base_uri": "https://localhost:8080/"
        },
        "id": "pmR7ysA0pXTh",
        "outputId": "742e62e4-c9f9-4b0a-eb68-7128ff134ab0"
      },
      "outputs": [
        {
          "output_type": "stream",
          "name": "stdout",
          "text": [
            "/content/drive/MyDrive/AI Studio/BNM_pipeline_ArtifactUsed/new\n"
          ]
        }
      ],
      "source": [
        "cd /content/drive/MyDrive/AI Studio/BNM_pipeline_ArtifactUsed/new"
      ]
    },
    {
      "cell_type": "code",
      "execution_count": null,
      "id": "OMhVbhfapYgD",
      "metadata": {
        "colab": {
          "base_uri": "https://localhost:8080/"
        },
        "id": "OMhVbhfapYgD",
        "outputId": "598299c8-7c8c-47e0-d531-7450d30d1c00"
      },
      "outputs": [
        {
          "output_type": "stream",
          "name": "stdout",
          "text": [
            "Collecting clearml>=1.10.0 (from -r requirements.txt (line 1))\n",
            "  Downloading clearml-2.0.0-py2.py3-none-any.whl.metadata (17 kB)\n",
            "Collecting numpy<2.0.0,>=1.19.5 (from -r requirements.txt (line 2))\n",
            "  Downloading numpy-1.26.4-cp311-cp311-manylinux_2_17_x86_64.manylinux2014_x86_64.whl.metadata (61 kB)\n",
            "\u001b[2K     \u001b[90m━━━━━━━━━━━━━━━━━━━━━━━━━━━━━━━━━━━━━━━━\u001b[0m \u001b[32m61.0/61.0 kB\u001b[0m \u001b[31m2.0 MB/s\u001b[0m eta \u001b[36m0:00:00\u001b[0m\n",
            "\u001b[?25hRequirement already satisfied: opencv-python>=4.5.0 in /usr/local/lib/python3.11/dist-packages (from -r requirements.txt (line 3)) (4.11.0.86)\n",
            "Requirement already satisfied: scikit-learn>=1.0.0 in /usr/local/lib/python3.11/dist-packages (from -r requirements.txt (line 4)) (1.6.1)\n",
            "Requirement already satisfied: tensorflow>=2.8.0 in /usr/local/lib/python3.11/dist-packages (from -r requirements.txt (line 5)) (2.18.0)\n",
            "Requirement already satisfied: gdown>=4.5.0 in /usr/local/lib/python3.11/dist-packages (from -r requirements.txt (line 6)) (5.2.0)\n",
            "Requirement already satisfied: matplotlib>=3.5.0 in /usr/local/lib/python3.11/dist-packages (from -r requirements.txt (line 7)) (3.10.0)\n",
            "Requirement already satisfied: attrs>=18.0 in /usr/local/lib/python3.11/dist-packages (from clearml>=1.10.0->-r requirements.txt (line 1)) (25.3.0)\n",
            "Collecting furl>=2.0.0 (from clearml>=1.10.0->-r requirements.txt (line 1))\n",
            "  Downloading furl-2.1.4-py2.py3-none-any.whl.metadata (25 kB)\n",
            "Requirement already satisfied: jsonschema>=2.6.0 in /usr/local/lib/python3.11/dist-packages (from clearml>=1.10.0->-r requirements.txt (line 1)) (4.23.0)\n",
            "Collecting pathlib2>=2.3.0 (from clearml>=1.10.0->-r requirements.txt (line 1))\n",
            "  Downloading pathlib2-2.3.7.post1-py2.py3-none-any.whl.metadata (3.5 kB)\n",
            "Requirement already satisfied: psutil>=3.4.2 in /usr/local/lib/python3.11/dist-packages (from clearml>=1.10.0->-r requirements.txt (line 1)) (5.9.5)\n",
            "Requirement already satisfied: pyparsing>=2.0.3 in /usr/local/lib/python3.11/dist-packages (from clearml>=1.10.0->-r requirements.txt (line 1)) (3.2.3)\n",
            "Requirement already satisfied: python-dateutil>=2.6.1 in /usr/local/lib/python3.11/dist-packages (from clearml>=1.10.0->-r requirements.txt (line 1)) (2.9.0.post0)\n",
            "Requirement already satisfied: pyjwt<2.11.0,>=2.4.0 in /usr/local/lib/python3.11/dist-packages (from clearml>=1.10.0->-r requirements.txt (line 1)) (2.10.1)\n",
            "Requirement already satisfied: PyYAML>=3.12 in /usr/local/lib/python3.11/dist-packages (from clearml>=1.10.0->-r requirements.txt (line 1)) (6.0.2)\n",
            "Requirement already satisfied: six>=1.16.0 in /usr/local/lib/python3.11/dist-packages (from clearml>=1.10.0->-r requirements.txt (line 1)) (1.17.0)\n",
            "Requirement already satisfied: urllib3>=1.21.1 in /usr/local/lib/python3.11/dist-packages (from clearml>=1.10.0->-r requirements.txt (line 1)) (2.4.0)\n",
            "Requirement already satisfied: Pillow>=10.3.0 in /usr/local/lib/python3.11/dist-packages (from clearml>=1.10.0->-r requirements.txt (line 1)) (11.2.1)\n",
            "Requirement already satisfied: referencing<0.40 in /usr/local/lib/python3.11/dist-packages (from clearml>=1.10.0->-r requirements.txt (line 1)) (0.36.2)\n",
            "Requirement already satisfied: requests>=2.32.0 in /usr/local/lib/python3.11/dist-packages (from clearml>=1.10.0->-r requirements.txt (line 1)) (2.32.3)\n",
            "Requirement already satisfied: scipy>=1.6.0 in /usr/local/lib/python3.11/dist-packages (from scikit-learn>=1.0.0->-r requirements.txt (line 4)) (1.15.3)\n",
            "Requirement already satisfied: joblib>=1.2.0 in /usr/local/lib/python3.11/dist-packages (from scikit-learn>=1.0.0->-r requirements.txt (line 4)) (1.5.0)\n",
            "Requirement already satisfied: threadpoolctl>=3.1.0 in /usr/local/lib/python3.11/dist-packages (from scikit-learn>=1.0.0->-r requirements.txt (line 4)) (3.6.0)\n",
            "Requirement already satisfied: absl-py>=1.0.0 in /usr/local/lib/python3.11/dist-packages (from tensorflow>=2.8.0->-r requirements.txt (line 5)) (1.4.0)\n",
            "Requirement already satisfied: astunparse>=1.6.0 in /usr/local/lib/python3.11/dist-packages (from tensorflow>=2.8.0->-r requirements.txt (line 5)) (1.6.3)\n",
            "Requirement already satisfied: flatbuffers>=24.3.25 in /usr/local/lib/python3.11/dist-packages (from tensorflow>=2.8.0->-r requirements.txt (line 5)) (25.2.10)\n",
            "Requirement already satisfied: gast!=0.5.0,!=0.5.1,!=0.5.2,>=0.2.1 in /usr/local/lib/python3.11/dist-packages (from tensorflow>=2.8.0->-r requirements.txt (line 5)) (0.6.0)\n",
            "Requirement already satisfied: google-pasta>=0.1.1 in /usr/local/lib/python3.11/dist-packages (from tensorflow>=2.8.0->-r requirements.txt (line 5)) (0.2.0)\n",
            "Requirement already satisfied: libclang>=13.0.0 in /usr/local/lib/python3.11/dist-packages (from tensorflow>=2.8.0->-r requirements.txt (line 5)) (18.1.1)\n",
            "Requirement already satisfied: opt-einsum>=2.3.2 in /usr/local/lib/python3.11/dist-packages (from tensorflow>=2.8.0->-r requirements.txt (line 5)) (3.4.0)\n",
            "Requirement already satisfied: packaging in /usr/local/lib/python3.11/dist-packages (from tensorflow>=2.8.0->-r requirements.txt (line 5)) (24.2)\n",
            "Requirement already satisfied: protobuf!=4.21.0,!=4.21.1,!=4.21.2,!=4.21.3,!=4.21.4,!=4.21.5,<6.0.0dev,>=3.20.3 in /usr/local/lib/python3.11/dist-packages (from tensorflow>=2.8.0->-r requirements.txt (line 5)) (5.29.4)\n",
            "Requirement already satisfied: setuptools in /usr/local/lib/python3.11/dist-packages (from tensorflow>=2.8.0->-r requirements.txt (line 5)) (75.2.0)\n",
            "Requirement already satisfied: termcolor>=1.1.0 in /usr/local/lib/python3.11/dist-packages (from tensorflow>=2.8.0->-r requirements.txt (line 5)) (3.1.0)\n",
            "Requirement already satisfied: typing-extensions>=3.6.6 in /usr/local/lib/python3.11/dist-packages (from tensorflow>=2.8.0->-r requirements.txt (line 5)) (4.13.2)\n",
            "Requirement already satisfied: wrapt>=1.11.0 in /usr/local/lib/python3.11/dist-packages (from tensorflow>=2.8.0->-r requirements.txt (line 5)) (1.17.2)\n",
            "Requirement already satisfied: grpcio<2.0,>=1.24.3 in /usr/local/lib/python3.11/dist-packages (from tensorflow>=2.8.0->-r requirements.txt (line 5)) (1.71.0)\n",
            "Requirement already satisfied: tensorboard<2.19,>=2.18 in /usr/local/lib/python3.11/dist-packages (from tensorflow>=2.8.0->-r requirements.txt (line 5)) (2.18.0)\n",
            "Requirement already satisfied: keras>=3.5.0 in /usr/local/lib/python3.11/dist-packages (from tensorflow>=2.8.0->-r requirements.txt (line 5)) (3.8.0)\n",
            "Requirement already satisfied: h5py>=3.11.0 in /usr/local/lib/python3.11/dist-packages (from tensorflow>=2.8.0->-r requirements.txt (line 5)) (3.13.0)\n",
            "Requirement already satisfied: ml-dtypes<0.5.0,>=0.4.0 in /usr/local/lib/python3.11/dist-packages (from tensorflow>=2.8.0->-r requirements.txt (line 5)) (0.4.1)\n",
            "Requirement already satisfied: tensorflow-io-gcs-filesystem>=0.23.1 in /usr/local/lib/python3.11/dist-packages (from tensorflow>=2.8.0->-r requirements.txt (line 5)) (0.37.1)\n",
            "Requirement already satisfied: beautifulsoup4 in /usr/local/lib/python3.11/dist-packages (from gdown>=4.5.0->-r requirements.txt (line 6)) (4.13.4)\n",
            "Requirement already satisfied: filelock in /usr/local/lib/python3.11/dist-packages (from gdown>=4.5.0->-r requirements.txt (line 6)) (3.18.0)\n",
            "Requirement already satisfied: tqdm in /usr/local/lib/python3.11/dist-packages (from gdown>=4.5.0->-r requirements.txt (line 6)) (4.67.1)\n",
            "Requirement already satisfied: contourpy>=1.0.1 in /usr/local/lib/python3.11/dist-packages (from matplotlib>=3.5.0->-r requirements.txt (line 7)) (1.3.2)\n",
            "Requirement already satisfied: cycler>=0.10 in /usr/local/lib/python3.11/dist-packages (from matplotlib>=3.5.0->-r requirements.txt (line 7)) (0.12.1)\n",
            "Requirement already satisfied: fonttools>=4.22.0 in /usr/local/lib/python3.11/dist-packages (from matplotlib>=3.5.0->-r requirements.txt (line 7)) (4.58.0)\n",
            "Requirement already satisfied: kiwisolver>=1.3.1 in /usr/local/lib/python3.11/dist-packages (from matplotlib>=3.5.0->-r requirements.txt (line 7)) (1.4.8)\n",
            "Requirement already satisfied: wheel<1.0,>=0.23.0 in /usr/local/lib/python3.11/dist-packages (from astunparse>=1.6.0->tensorflow>=2.8.0->-r requirements.txt (line 5)) (0.45.1)\n",
            "Collecting orderedmultidict>=1.0.1 (from furl>=2.0.0->clearml>=1.10.0->-r requirements.txt (line 1))\n",
            "  Downloading orderedmultidict-1.0.1-py2.py3-none-any.whl.metadata (1.3 kB)\n",
            "Requirement already satisfied: jsonschema-specifications>=2023.03.6 in /usr/local/lib/python3.11/dist-packages (from jsonschema>=2.6.0->clearml>=1.10.0->-r requirements.txt (line 1)) (2025.4.1)\n",
            "Requirement already satisfied: rpds-py>=0.7.1 in /usr/local/lib/python3.11/dist-packages (from jsonschema>=2.6.0->clearml>=1.10.0->-r requirements.txt (line 1)) (0.24.0)\n",
            "Requirement already satisfied: rich in /usr/local/lib/python3.11/dist-packages (from keras>=3.5.0->tensorflow>=2.8.0->-r requirements.txt (line 5)) (13.9.4)\n",
            "Requirement already satisfied: namex in /usr/local/lib/python3.11/dist-packages (from keras>=3.5.0->tensorflow>=2.8.0->-r requirements.txt (line 5)) (0.0.9)\n",
            "Requirement already satisfied: optree in /usr/local/lib/python3.11/dist-packages (from keras>=3.5.0->tensorflow>=2.8.0->-r requirements.txt (line 5)) (0.15.0)\n",
            "Requirement already satisfied: charset-normalizer<4,>=2 in /usr/local/lib/python3.11/dist-packages (from requests>=2.32.0->clearml>=1.10.0->-r requirements.txt (line 1)) (3.4.2)\n",
            "Requirement already satisfied: idna<4,>=2.5 in /usr/local/lib/python3.11/dist-packages (from requests>=2.32.0->clearml>=1.10.0->-r requirements.txt (line 1)) (3.10)\n",
            "Requirement already satisfied: certifi>=2017.4.17 in /usr/local/lib/python3.11/dist-packages (from requests>=2.32.0->clearml>=1.10.0->-r requirements.txt (line 1)) (2025.4.26)\n",
            "Requirement already satisfied: markdown>=2.6.8 in /usr/local/lib/python3.11/dist-packages (from tensorboard<2.19,>=2.18->tensorflow>=2.8.0->-r requirements.txt (line 5)) (3.8)\n",
            "Requirement already satisfied: tensorboard-data-server<0.8.0,>=0.7.0 in /usr/local/lib/python3.11/dist-packages (from tensorboard<2.19,>=2.18->tensorflow>=2.8.0->-r requirements.txt (line 5)) (0.7.2)\n",
            "Requirement already satisfied: werkzeug>=1.0.1 in /usr/local/lib/python3.11/dist-packages (from tensorboard<2.19,>=2.18->tensorflow>=2.8.0->-r requirements.txt (line 5)) (3.1.3)\n",
            "Requirement already satisfied: soupsieve>1.2 in /usr/local/lib/python3.11/dist-packages (from beautifulsoup4->gdown>=4.5.0->-r requirements.txt (line 6)) (2.7)\n",
            "Requirement already satisfied: PySocks!=1.5.7,>=1.5.6 in /usr/local/lib/python3.11/dist-packages (from requests[socks]->gdown>=4.5.0->-r requirements.txt (line 6)) (1.7.1)\n",
            "Requirement already satisfied: MarkupSafe>=2.1.1 in /usr/local/lib/python3.11/dist-packages (from werkzeug>=1.0.1->tensorboard<2.19,>=2.18->tensorflow>=2.8.0->-r requirements.txt (line 5)) (3.0.2)\n",
            "Requirement already satisfied: markdown-it-py>=2.2.0 in /usr/local/lib/python3.11/dist-packages (from rich->keras>=3.5.0->tensorflow>=2.8.0->-r requirements.txt (line 5)) (3.0.0)\n",
            "Requirement already satisfied: pygments<3.0.0,>=2.13.0 in /usr/local/lib/python3.11/dist-packages (from rich->keras>=3.5.0->tensorflow>=2.8.0->-r requirements.txt (line 5)) (2.19.1)\n",
            "Requirement already satisfied: mdurl~=0.1 in /usr/local/lib/python3.11/dist-packages (from markdown-it-py>=2.2.0->rich->keras>=3.5.0->tensorflow>=2.8.0->-r requirements.txt (line 5)) (0.1.2)\n",
            "Downloading clearml-2.0.0-py2.py3-none-any.whl (1.2 MB)\n",
            "\u001b[2K   \u001b[90m━━━━━━━━━━━━━━━━━━━━━━━━━━━━━━━━━━━━━━━━\u001b[0m \u001b[32m1.2/1.2 MB\u001b[0m \u001b[31m21.2 MB/s\u001b[0m eta \u001b[36m0:00:00\u001b[0m\n",
            "\u001b[?25hDownloading numpy-1.26.4-cp311-cp311-manylinux_2_17_x86_64.manylinux2014_x86_64.whl (18.3 MB)\n",
            "\u001b[2K   \u001b[90m━━━━━━━━━━━━━━━━━━━━━━━━━━━━━━━━━━━━━━━━\u001b[0m \u001b[32m18.3/18.3 MB\u001b[0m \u001b[31m97.1 MB/s\u001b[0m eta \u001b[36m0:00:00\u001b[0m\n",
            "\u001b[?25hDownloading furl-2.1.4-py2.py3-none-any.whl (27 kB)\n",
            "Downloading pathlib2-2.3.7.post1-py2.py3-none-any.whl (18 kB)\n",
            "Downloading orderedmultidict-1.0.1-py2.py3-none-any.whl (11 kB)\n",
            "Installing collected packages: pathlib2, orderedmultidict, numpy, furl, clearml\n",
            "  Attempting uninstall: numpy\n",
            "    Found existing installation: numpy 2.0.2\n",
            "    Uninstalling numpy-2.0.2:\n",
            "      Successfully uninstalled numpy-2.0.2\n",
            "\u001b[31mERROR: pip's dependency resolver does not currently take into account all the packages that are installed. This behaviour is the source of the following dependency conflicts.\n",
            "thinc 8.3.6 requires numpy<3.0.0,>=2.0.0, but you have numpy 1.26.4 which is incompatible.\u001b[0m\u001b[31m\n",
            "\u001b[0mSuccessfully installed clearml-2.0.0 furl-2.1.4 numpy-1.26.4 orderedmultidict-1.0.1 pathlib2-2.3.7.post1\n"
          ]
        }
      ],
      "source": [
        "!pip install -r requirements.txt"
      ]
    },
    {
      "cell_type": "code",
      "execution_count": null,
      "id": "code_install_hpo",
      "metadata": {
        "colab": {
          "base_uri": "https://localhost:8080/"
        },
        "id": "code_install_hpo",
        "outputId": "54f01f8f-b99f-4c6b-c1b9-66e15251bc83"
      },
      "outputs": [
        {
          "output_type": "stream",
          "name": "stdout",
          "text": [
            "Collecting clearml\n",
            "  Downloading clearml-2.0.0-py2.py3-none-any.whl.metadata (17 kB)\n",
            "Requirement already satisfied: tensorflow in /usr/local/lib/python3.11/dist-packages (2.18.0)\n",
            "Requirement already satisfied: scikit-learn in /usr/local/lib/python3.11/dist-packages (1.6.1)\n",
            "Requirement already satisfied: numpy in /usr/local/lib/python3.11/dist-packages (2.0.2)\n",
            "Requirement already satisfied: matplotlib in /usr/local/lib/python3.11/dist-packages (3.10.0)\n",
            "Requirement already satisfied: gdown in /usr/local/lib/python3.11/dist-packages (5.2.0)\n",
            "Collecting optuna\n",
            "  Downloading optuna-4.3.0-py3-none-any.whl.metadata (17 kB)\n",
            "Requirement already satisfied: attrs>=18.0 in /usr/local/lib/python3.11/dist-packages (from clearml) (25.3.0)\n",
            "Collecting furl>=2.0.0 (from clearml)\n",
            "  Downloading furl-2.1.4-py2.py3-none-any.whl.metadata (25 kB)\n",
            "Requirement already satisfied: jsonschema>=2.6.0 in /usr/local/lib/python3.11/dist-packages (from clearml) (4.23.0)\n",
            "Collecting pathlib2>=2.3.0 (from clearml)\n",
            "  Downloading pathlib2-2.3.7.post1-py2.py3-none-any.whl.metadata (3.5 kB)\n",
            "Requirement already satisfied: psutil>=3.4.2 in /usr/local/lib/python3.11/dist-packages (from clearml) (5.9.5)\n",
            "Requirement already satisfied: pyparsing>=2.0.3 in /usr/local/lib/python3.11/dist-packages (from clearml) (3.2.3)\n",
            "Requirement already satisfied: python-dateutil>=2.6.1 in /usr/local/lib/python3.11/dist-packages (from clearml) (2.9.0.post0)\n",
            "Requirement already satisfied: pyjwt<2.11.0,>=2.4.0 in /usr/local/lib/python3.11/dist-packages (from clearml) (2.10.1)\n",
            "Requirement already satisfied: PyYAML>=3.12 in /usr/local/lib/python3.11/dist-packages (from clearml) (6.0.2)\n",
            "Requirement already satisfied: six>=1.16.0 in /usr/local/lib/python3.11/dist-packages (from clearml) (1.17.0)\n",
            "Requirement already satisfied: urllib3>=1.21.1 in /usr/local/lib/python3.11/dist-packages (from clearml) (2.4.0)\n",
            "Requirement already satisfied: Pillow>=10.3.0 in /usr/local/lib/python3.11/dist-packages (from clearml) (11.2.1)\n",
            "Requirement already satisfied: referencing<0.40 in /usr/local/lib/python3.11/dist-packages (from clearml) (0.36.2)\n",
            "Requirement already satisfied: requests>=2.32.0 in /usr/local/lib/python3.11/dist-packages (from clearml) (2.32.3)\n",
            "Requirement already satisfied: absl-py>=1.0.0 in /usr/local/lib/python3.11/dist-packages (from tensorflow) (1.4.0)\n",
            "Requirement already satisfied: astunparse>=1.6.0 in /usr/local/lib/python3.11/dist-packages (from tensorflow) (1.6.3)\n",
            "Requirement already satisfied: flatbuffers>=24.3.25 in /usr/local/lib/python3.11/dist-packages (from tensorflow) (25.2.10)\n",
            "Requirement already satisfied: gast!=0.5.0,!=0.5.1,!=0.5.2,>=0.2.1 in /usr/local/lib/python3.11/dist-packages (from tensorflow) (0.6.0)\n",
            "Requirement already satisfied: google-pasta>=0.1.1 in /usr/local/lib/python3.11/dist-packages (from tensorflow) (0.2.0)\n",
            "Requirement already satisfied: libclang>=13.0.0 in /usr/local/lib/python3.11/dist-packages (from tensorflow) (18.1.1)\n",
            "Requirement already satisfied: opt-einsum>=2.3.2 in /usr/local/lib/python3.11/dist-packages (from tensorflow) (3.4.0)\n",
            "Requirement already satisfied: packaging in /usr/local/lib/python3.11/dist-packages (from tensorflow) (24.2)\n",
            "Requirement already satisfied: protobuf!=4.21.0,!=4.21.1,!=4.21.2,!=4.21.3,!=4.21.4,!=4.21.5,<6.0.0dev,>=3.20.3 in /usr/local/lib/python3.11/dist-packages (from tensorflow) (5.29.4)\n",
            "Requirement already satisfied: setuptools in /usr/local/lib/python3.11/dist-packages (from tensorflow) (75.2.0)\n",
            "Requirement already satisfied: termcolor>=1.1.0 in /usr/local/lib/python3.11/dist-packages (from tensorflow) (3.1.0)\n",
            "Requirement already satisfied: typing-extensions>=3.6.6 in /usr/local/lib/python3.11/dist-packages (from tensorflow) (4.13.2)\n",
            "Requirement already satisfied: wrapt>=1.11.0 in /usr/local/lib/python3.11/dist-packages (from tensorflow) (1.17.2)\n",
            "Requirement already satisfied: grpcio<2.0,>=1.24.3 in /usr/local/lib/python3.11/dist-packages (from tensorflow) (1.71.0)\n",
            "Requirement already satisfied: tensorboard<2.19,>=2.18 in /usr/local/lib/python3.11/dist-packages (from tensorflow) (2.18.0)\n",
            "Requirement already satisfied: keras>=3.5.0 in /usr/local/lib/python3.11/dist-packages (from tensorflow) (3.8.0)\n",
            "Requirement already satisfied: h5py>=3.11.0 in /usr/local/lib/python3.11/dist-packages (from tensorflow) (3.13.0)\n",
            "Requirement already satisfied: ml-dtypes<0.5.0,>=0.4.0 in /usr/local/lib/python3.11/dist-packages (from tensorflow) (0.4.1)\n",
            "Requirement already satisfied: tensorflow-io-gcs-filesystem>=0.23.1 in /usr/local/lib/python3.11/dist-packages (from tensorflow) (0.37.1)\n",
            "Requirement already satisfied: scipy>=1.6.0 in /usr/local/lib/python3.11/dist-packages (from scikit-learn) (1.15.3)\n",
            "Requirement already satisfied: joblib>=1.2.0 in /usr/local/lib/python3.11/dist-packages (from scikit-learn) (1.5.0)\n",
            "Requirement already satisfied: threadpoolctl>=3.1.0 in /usr/local/lib/python3.11/dist-packages (from scikit-learn) (3.6.0)\n",
            "Requirement already satisfied: contourpy>=1.0.1 in /usr/local/lib/python3.11/dist-packages (from matplotlib) (1.3.2)\n",
            "Requirement already satisfied: cycler>=0.10 in /usr/local/lib/python3.11/dist-packages (from matplotlib) (0.12.1)\n",
            "Requirement already satisfied: fonttools>=4.22.0 in /usr/local/lib/python3.11/dist-packages (from matplotlib) (4.58.0)\n",
            "Requirement already satisfied: kiwisolver>=1.3.1 in /usr/local/lib/python3.11/dist-packages (from matplotlib) (1.4.8)\n",
            "Requirement already satisfied: beautifulsoup4 in /usr/local/lib/python3.11/dist-packages (from gdown) (4.13.4)\n",
            "Requirement already satisfied: filelock in /usr/local/lib/python3.11/dist-packages (from gdown) (3.18.0)\n",
            "Requirement already satisfied: tqdm in /usr/local/lib/python3.11/dist-packages (from gdown) (4.67.1)\n",
            "Collecting alembic>=1.5.0 (from optuna)\n",
            "  Downloading alembic-1.16.1-py3-none-any.whl.metadata (7.3 kB)\n",
            "Collecting colorlog (from optuna)\n",
            "  Downloading colorlog-6.9.0-py3-none-any.whl.metadata (10 kB)\n",
            "Requirement already satisfied: sqlalchemy>=1.4.2 in /usr/local/lib/python3.11/dist-packages (from optuna) (2.0.40)\n",
            "Requirement already satisfied: Mako in /usr/lib/python3/dist-packages (from alembic>=1.5.0->optuna) (1.1.3)\n",
            "Requirement already satisfied: wheel<1.0,>=0.23.0 in /usr/local/lib/python3.11/dist-packages (from astunparse>=1.6.0->tensorflow) (0.45.1)\n",
            "Collecting orderedmultidict>=1.0.1 (from furl>=2.0.0->clearml)\n",
            "  Downloading orderedmultidict-1.0.1-py2.py3-none-any.whl.metadata (1.3 kB)\n",
            "Requirement already satisfied: jsonschema-specifications>=2023.03.6 in /usr/local/lib/python3.11/dist-packages (from jsonschema>=2.6.0->clearml) (2025.4.1)\n",
            "Requirement already satisfied: rpds-py>=0.7.1 in /usr/local/lib/python3.11/dist-packages (from jsonschema>=2.6.0->clearml) (0.24.0)\n",
            "Requirement already satisfied: rich in /usr/local/lib/python3.11/dist-packages (from keras>=3.5.0->tensorflow) (13.9.4)\n",
            "Requirement already satisfied: namex in /usr/local/lib/python3.11/dist-packages (from keras>=3.5.0->tensorflow) (0.0.9)\n",
            "Requirement already satisfied: optree in /usr/local/lib/python3.11/dist-packages (from keras>=3.5.0->tensorflow) (0.15.0)\n",
            "Requirement already satisfied: charset-normalizer<4,>=2 in /usr/local/lib/python3.11/dist-packages (from requests>=2.32.0->clearml) (3.4.2)\n",
            "Requirement already satisfied: idna<4,>=2.5 in /usr/local/lib/python3.11/dist-packages (from requests>=2.32.0->clearml) (3.10)\n",
            "Requirement already satisfied: certifi>=2017.4.17 in /usr/local/lib/python3.11/dist-packages (from requests>=2.32.0->clearml) (2025.4.26)\n",
            "Requirement already satisfied: greenlet>=1 in /usr/local/lib/python3.11/dist-packages (from sqlalchemy>=1.4.2->optuna) (3.2.2)\n",
            "Requirement already satisfied: markdown>=2.6.8 in /usr/local/lib/python3.11/dist-packages (from tensorboard<2.19,>=2.18->tensorflow) (3.8)\n",
            "Requirement already satisfied: tensorboard-data-server<0.8.0,>=0.7.0 in /usr/local/lib/python3.11/dist-packages (from tensorboard<2.19,>=2.18->tensorflow) (0.7.2)\n",
            "Requirement already satisfied: werkzeug>=1.0.1 in /usr/local/lib/python3.11/dist-packages (from tensorboard<2.19,>=2.18->tensorflow) (3.1.3)\n",
            "Requirement already satisfied: soupsieve>1.2 in /usr/local/lib/python3.11/dist-packages (from beautifulsoup4->gdown) (2.7)\n",
            "Requirement already satisfied: PySocks!=1.5.7,>=1.5.6 in /usr/local/lib/python3.11/dist-packages (from requests[socks]->gdown) (1.7.1)\n",
            "Requirement already satisfied: MarkupSafe>=2.1.1 in /usr/local/lib/python3.11/dist-packages (from werkzeug>=1.0.1->tensorboard<2.19,>=2.18->tensorflow) (3.0.2)\n",
            "Requirement already satisfied: markdown-it-py>=2.2.0 in /usr/local/lib/python3.11/dist-packages (from rich->keras>=3.5.0->tensorflow) (3.0.0)\n",
            "Requirement already satisfied: pygments<3.0.0,>=2.13.0 in /usr/local/lib/python3.11/dist-packages (from rich->keras>=3.5.0->tensorflow) (2.19.1)\n",
            "Requirement already satisfied: mdurl~=0.1 in /usr/local/lib/python3.11/dist-packages (from markdown-it-py>=2.2.0->rich->keras>=3.5.0->tensorflow) (0.1.2)\n",
            "Downloading clearml-2.0.0-py2.py3-none-any.whl (1.2 MB)\n",
            "\u001b[2K   \u001b[90m━━━━━━━━━━━━━━━━━━━━━━━━━━━━━━━━━━━━━━━━\u001b[0m \u001b[32m1.2/1.2 MB\u001b[0m \u001b[31m56.7 MB/s\u001b[0m eta \u001b[36m0:00:00\u001b[0m\n",
            "\u001b[?25hDownloading optuna-4.3.0-py3-none-any.whl (386 kB)\n",
            "\u001b[2K   \u001b[90m━━━━━━━━━━━━━━━━━━━━━━━━━━━━━━━━━━━━━━━━\u001b[0m \u001b[32m386.6/386.6 kB\u001b[0m \u001b[31m29.1 MB/s\u001b[0m eta \u001b[36m0:00:00\u001b[0m\n",
            "\u001b[?25hDownloading alembic-1.16.1-py3-none-any.whl (242 kB)\n",
            "\u001b[2K   \u001b[90m━━━━━━━━━━━━━━━━━━━━━━━━━━━━━━━━━━━━━━━━\u001b[0m \u001b[32m242.5/242.5 kB\u001b[0m \u001b[31m20.0 MB/s\u001b[0m eta \u001b[36m0:00:00\u001b[0m\n",
            "\u001b[?25hDownloading furl-2.1.4-py2.py3-none-any.whl (27 kB)\n",
            "Downloading pathlib2-2.3.7.post1-py2.py3-none-any.whl (18 kB)\n",
            "Downloading colorlog-6.9.0-py3-none-any.whl (11 kB)\n",
            "Downloading orderedmultidict-1.0.1-py2.py3-none-any.whl (11 kB)\n",
            "Installing collected packages: pathlib2, orderedmultidict, colorlog, furl, alembic, optuna, clearml\n",
            "Successfully installed alembic-1.16.1 clearml-2.0.0 colorlog-6.9.0 furl-2.1.4 optuna-4.3.0 orderedmultidict-1.0.1 pathlib2-2.3.7.post1\n"
          ]
        }
      ],
      "source": [
        "!pip install clearml tensorflow scikit-learn numpy matplotlib gdown optuna"
      ]
    },
    {
      "cell_type": "markdown",
      "id": "clearml_init_hpo",
      "metadata": {
        "id": "clearml_init_hpo"
      },
      "source": [
        "Next, initialize ClearML. You will be prompted to enter your ClearML server credentials. If you don't have an account, you can register for a free one at [app.clear.ml](https://app.clear.ml)."
      ]
    },
    {
      "cell_type": "code",
      "source": [
        "''' USE below credentials\n",
        "api {\n",
        "    web_server: https://app.clear.ml/\n",
        "    api_server: https://api.clear.ml\n",
        "    files_server: https://files.clear.ml\n",
        "    credentials {\n",
        "        access_key: \"MS76OJLEAWLZXRGGV04N7AYXH34ATB\"\n",
        "        secret_key: \"S2J1CjhitU3JGp4X0MzxGjF55Ys-0XjX1X12Hq5_kbGfuUshGN-CiI0tuPy91CgTHVQ\"\n",
        "    }\n",
        "}\n",
        "'''"
      ],
      "metadata": {
        "id": "xv03CbvJalzy"
      },
      "id": "xv03CbvJalzy",
      "execution_count": null,
      "outputs": []
    },
    {
      "cell_type": "code",
      "execution_count": null,
      "id": "code_clearml_init_hpo",
      "metadata": {
        "colab": {
          "base_uri": "https://localhost:8080/"
        },
        "id": "code_clearml_init_hpo",
        "outputId": "301cb095-31d7-410d-c286-2dfcf6299bfd"
      },
      "outputs": [
        {
          "output_type": "stream",
          "name": "stdout",
          "text": [
            "ClearML SDK setup process\n",
            "\n",
            "Please create new clearml credentials through the settings page in your `clearml-server` web app (e.g. http://localhost:8080//settings/workspace-configuration) \n",
            "Or create a free account at https://app.clear.ml/settings/workspace-configuration\n",
            "\n",
            "In settings page, press \"Create new credentials\", then press \"Copy to clipboard\".\n",
            "\n",
            "Paste copied configuration here:\n",
            "api {     web_server: https://app.clear.ml/     api_server: https://api.clear.ml     files_server: https://files.clear.ml     credentials {         access_key: \"MS76OJLEAWLZXRGGV04N7AYXH34ATB\"         secret_key: \"S2J1CjhitU3JGp4X0MzxGjF55Ys-0XjX1X12Hq5_kbGfuUshGN-CiI0tuPy91CgTHVQ\"     } }\n",
            "Detected credentials key=\"MS76OJLEAWLZXRGGV04N7AYXH34ATB\" secret=\"S2J1***\"\n",
            "\n",
            "ClearML Hosts configuration:\n",
            "Web App: https://app.clear.ml/\n",
            "API: https://api.clear.ml\n",
            "File Store: https://files.clear.ml\n",
            "\n",
            "Verifying credentials ...\n",
            "Credentials verified!\n",
            "\n",
            "New configuration stored in /root/clearml.conf\n",
            "ClearML setup completed successfully.\n"
          ]
        }
      ],
      "source": [
        "!clearml-init"
      ]
    },
    {
      "cell_type": "markdown",
      "id": "upload_scripts_hpo",
      "metadata": {
        "id": "upload_scripts_hpo"
      },
      "source": [
        "## 2. Upload Pipeline Scripts to Colab\n",
        "\n",
        "You need to upload the provided Python scripts for the HPO pipeline to your Colab environment. These include:\n",
        "- `step0_upload_dataset.py` (your original script)\n",
        "- `smart_data_preprocessing_deep.py` (your original script)\n",
        "- `feature_extraction.py` (your original script)\n",
        "- `model_training_hpo.py` (new HPO-compatible training script)\n",
        "- `hpo_optimizer.py` (new HPO orchestrator script)\n",
        "- `model_evaluation_hpo.py` (new HPO-compatible evaluation script)\n",
        "- `bnm_pipeline_controller_hpo.py` (new pipeline controller script)\n",
        "\n",
        "Use the file upload feature in Colab's sidebar to upload these files to the root directory of your Colab environment."
      ]
    },
    {
      "cell_type": "markdown",
      "id": "register_tasks_hpo",
      "metadata": {
        "id": "register_tasks_hpo"
      },
      "source": [
        "## 3. Register Base Tasks in ClearML\n",
        "\n",
        "Each Python script representing a pipeline step must be registered as a base task in ClearML. The `validation_instructions.md` file (provided separately) contains detailed steps for this. Here's a summary of commands you might run in a Colab code cell (or your local terminal if you uploaded scripts there) to register them. Ensure the `project_name` in each script's `Task.init()` is set to `\"BNM Pipeline\"`.\n",
        "\n",
        "**Important:** For the first run of each script to register it as a template, ensure any `task.execute_remotely()` calls are commented out or that the task initialization allows for template creation."
      ]
    },
    {
      "cell_type": "code",
      "execution_count": null,
      "id": "ZRSUNBDnxO2v",
      "metadata": {
        "colab": {
          "base_uri": "https://localhost:8080/"
        },
        "id": "ZRSUNBDnxO2v",
        "outputId": "c86daee7-bf46-4e1d-ccae-dfc8577a5faf"
      },
      "outputs": [
        {
          "output_type": "stream",
          "name": "stdout",
          "text": [
            "agent_log.txt                         hpo_optimizer.py\n",
            "best_hpo_eye_model_curves.png         model_evaluation_hpo.py\n",
            "best_hpo_yawn_model_curves.png        model_training_hpo.py\n",
            "best_parameters.json                  pipeline_controller.py\n",
            "BNM_ClearML_Pipeline_HPO_Colab.ipynb  \u001b[0m\u001b[01;34mplots\u001b[0m/\n",
            "eye_feature_best.h5                   processed_data.npz\n",
            "eye_history.json                      requirements.txt\n",
            "feature_extraction.py                 smart_data_preprocessing_deep.py\n",
            "features.npz                          start_agent.py\n",
            "final_eye_model.h5                    yawn_feature_best.h5\n",
            "final_yawn_model.h5                   yawn_history.json\n"
          ]
        }
      ],
      "source": [
        "ls"
      ]
    },
    {
      "cell_type": "code",
      "execution_count": null,
      "id": "3h-nH0ebJthv",
      "metadata": {
        "colab": {
          "base_uri": "https://localhost:8080/"
        },
        "id": "3h-nH0ebJthv",
        "outputId": "713eaeb3-63c9-4c9e-cea4-42e3acebf396"
      },
      "outputs": [
        {
          "output_type": "stream",
          "name": "stdout",
          "text": [
            "ClearML Task: created new task id=b326379b6bf24cc2bbce4f5e0c6f2359\n",
            "2025-05-23 11:19:02,578 - clearml.Task - INFO - No repository found, storing script code instead\n",
            "2025-05-23 11:19:03.963978: E external/local_xla/xla/stream_executor/cuda/cuda_fft.cc:477] Unable to register cuFFT factory: Attempting to register factory for plugin cuFFT when one has already been registered\n",
            "WARNING: All log messages before absl::InitializeLog() is called are written to STDERR\n",
            "E0000 00:00:1747999144.003929    1273 cuda_dnn.cc:8310] Unable to register cuDNN factory: Attempting to register factory for plugin cuDNN when one has already been registered\n",
            "E0000 00:00:1747999144.016073    1273 cuda_blas.cc:1418] Unable to register cuBLAS factory: Attempting to register factory for plugin cuBLAS when one has already been registered\n",
            "2025-05-23 11:19:04.054613: I tensorflow/core/platform/cpu_feature_guard.cc:210] This TensorFlow binary is optimized to use available CPU instructions in performance-critical operations.\n",
            "To enable the following instructions: AVX2 FMA, in other operations, rebuild TensorFlow with the appropriate compiler flags.\n",
            "ClearML results page: https://app.clear.ml/projects/7c71487eea344d3ea8a50eb5f6ac73cc/experiments/b326379b6bf24cc2bbce4f5e0c6f2359/output/log\n",
            "2025-05-23 11:19:08,722 - clearml.task - WARNING - Requirement ignored, Task.add_requirements() must be called before Task.init()\n",
            "2025-05-23 11:19:08,728 - clearml - INFO - Dataset.get() did not specify alias. Dataset information will not be automatically logged in ClearML Server.\n",
            "ClearML Monitor: GPU monitoring failed getting GPU reading, switching off GPU monitoring\n",
            "2025-05-23 11:19:12,359 - clearml.storage - INFO - Downloading: 205.61MB from https://files.clear.ml/BNM%20Pipeline/.datasets/Drowsiness%20Dataset/Drowsiness%20Dataset.b12af85ec2be46c4a55087ae18fc9357/artifacts/data/dataset.b12af85ec2be46c4a55087ae18fc9357.jbvwvhcy.zip\n",
            "████████████████████████████ 100% | 205.61/205.61 MB [00:01<00:00, 142.21MB/s]: \n",
            "2025-05-23 11:19:13,808 - clearml.storage - INFO - Downloaded 205.61 MB successfully from https://files.clear.ml/BNM%20Pipeline/.datasets/Drowsiness%20Dataset/Drowsiness%20Dataset.b12af85ec2be46c4a55087ae18fc9357/artifacts/data/dataset.b12af85ec2be46c4a55087ae18fc9357.jbvwvhcy.zip , saved to /root/.clearml/cache/storage_manager/datasets/7c30c8c0c72f0900ab1c6eaff071481b.dataset.b12af85ec2be46c4a55087ae18fc9357.jbvwvhcy.zip\n",
            "📁 Using dataset path: /root/.clearml/cache/storage_manager/datasets/ds_b12af85ec2be46c4a55087ae18fc9357/train\n",
            "📂 Folder structure:\n",
            "- train/\n",
            "    - yawn/\n",
            "    - Open/\n",
            "    - no_yawn/\n",
            "    - Closed/\n",
            "    - yawn/\n",
            "    - Open/\n",
            "    - no_yawn/\n",
            "    - Closed/\n",
            "ClearML Monitor: Could not detect iteration reporting, falling back to iterations as seconds-from-start\n",
            "✅ Preprocessing completed and uploaded to ClearML.\n",
            "2025-05-23 11:34:05,217 - clearml.storage - INFO - Uploading: 4461.71MB from /content/drive/MyDrive/AI Studio/BNM_pipeline_ArtifactUsed/new/processed_data.npz\n",
            "███████████████████████████ 100% | 4461.71/4461.71 MB [01:38<00:00, 45.35MB/s]: \n"
          ]
        }
      ],
      "source": [
        "!python smart_data_preprocessing_deep.py\n"
      ]
    },
    {
      "cell_type": "code",
      "source": [
        "!python feature_extraction.py"
      ],
      "metadata": {
        "colab": {
          "base_uri": "https://localhost:8080/"
        },
        "id": "RMWIPcs8VWel",
        "outputId": "f23d6b44-2947-4e2c-dbc6-605b1a50c937"
      },
      "id": "RMWIPcs8VWel",
      "execution_count": null,
      "outputs": [
        {
          "output_type": "stream",
          "name": "stdout",
          "text": [
            "2025-05-23 11:36:27.030731: E external/local_xla/xla/stream_executor/cuda/cuda_fft.cc:477] Unable to register cuFFT factory: Attempting to register factory for plugin cuFFT when one has already been registered\n",
            "WARNING: All log messages before absl::InitializeLog() is called are written to STDERR\n",
            "E0000 00:00:1748000187.246593    5426 cuda_dnn.cc:8310] Unable to register cuDNN factory: Attempting to register factory for plugin cuDNN when one has already been registered\n",
            "E0000 00:00:1748000187.304921    5426 cuda_blas.cc:1418] Unable to register cuBLAS factory: Attempting to register factory for plugin cuBLAS when one has already been registered\n",
            "2025-05-23 11:36:27.757464: I tensorflow/core/platform/cpu_feature_guard.cc:210] This TensorFlow binary is optimized to use available CPU instructions in performance-critical operations.\n",
            "To enable the following instructions: AVX2 FMA, in other operations, rebuild TensorFlow with the appropriate compiler flags.\n",
            "ClearML Task: created new task id=a2d4d6d5375e4171827427de910026a2\n",
            "2025-05-23 11:36:35,164 - clearml.Task - INFO - No repository found, storing script code instead\n",
            "ClearML results page: https://app.clear.ml/projects/7c71487eea344d3ea8a50eb5f6ac73cc/experiments/a2d4d6d5375e4171827427de910026a2/output/log\n",
            "2025-05-23 11:36:37,180 - clearml.task - WARNING - Requirement ignored, Task.add_requirements() must be called before Task.init()\n",
            "2025-05-23 11:36:37,550 - clearml.util - WARNING - 3 task found when searching for `{'project_name': 'BNM Pipeline HPO', 'task_name': 'Step 1 - Smart Data Preprocessing (Deep Scan)', 'include_archived': True}`\n",
            "2025-05-23 11:36:37,551 - clearml.util - WARNING - Selected task `Step 1 - Smart Data Preprocessing (Deep Scan)` (id=b326379b6bf24cc2bbce4f5e0c6f2359)\n",
            "ClearML Monitor: GPU monitoring failed getting GPU reading, switching off GPU monitoring\n",
            "2025-05-23 11:36:38,647 - clearml.storage - INFO - Downloading: 4461.71MB from https://files.clear.ml/BNM%20Pipeline%20HPO/Step%201%20-%20Smart%20Data%20Preprocessing%20%28Deep%20Scan%29.b326379b6bf24cc2bbce4f5e0c6f2359/artifacts/processed_data/processed_data.npz\n",
            "███████████████████████████ 100% | 4461.71/4461.71 MB [00:53<00:00, 82.88MB/s]: \n",
            "2025-05-23 11:37:32,490 - clearml.storage - INFO - Downloaded 4461.71 MB successfully from https://files.clear.ml/BNM%20Pipeline%20HPO/Step%201%20-%20Smart%20Data%20Preprocessing%20%28Deep%20Scan%29.b326379b6bf24cc2bbce4f5e0c6f2359/artifacts/processed_data/processed_data.npz , saved to /root/.clearml/cache/storage_manager/global/227f2bab409a47c1866308e5c7137844.processed_data.npz\n",
            "Loading preprocessed data from: /root/.clearml/cache/storage_manager/global/227f2bab409a47c1866308e5c7137844.processed_data.npz\n",
            "Loaded data shapes: X_train: (3108, 224, 224, 3), X_test: (777, 224, 224, 3)\n",
            "Label shapes: y_train: (3108,), y_test: (777,)\n",
            "2025-05-23 11:37:46.509995: E external/local_xla/xla/stream_executor/cuda/cuda_driver.cc:152] failed call to cuInit: INTERNAL: CUDA error: Failed call to cuInit: UNKNOWN ERROR (303)\n",
            "Downloading data from https://storage.googleapis.com/tensorflow/keras-applications/mobilenet_v2/mobilenet_v2_weights_tf_dim_ordering_tf_kernels_1.0_224_no_top.h5\n",
            "\u001b[1m9406464/9406464\u001b[0m \u001b[32m━━━━━━━━━━━━━━━━━━━━\u001b[0m\u001b[37m\u001b[0m \u001b[1m0s\u001b[0m 0us/step\n",
            "Extracting features from training data...\n",
            "Processing image 0/3108\n",
            "Processing image 100/3108\n",
            "Processing image 200/3108\n",
            "Processing image 300/3108\n",
            "Processing image 400/3108\n",
            "Processing image 500/3108\n",
            "ClearML Monitor: Could not detect iteration reporting, falling back to iterations as seconds-from-start\n",
            "Processing image 600/3108\n",
            "Processing image 700/3108\n",
            "Processing image 800/3108\n",
            "Processing image 900/3108\n",
            "Processing image 1000/3108\n",
            "Processing image 1100/3108\n",
            "Processing image 1200/3108\n",
            "Processing image 1300/3108\n",
            "Processing image 1400/3108\n",
            "Processing image 1500/3108\n",
            "Processing image 1600/3108\n",
            "Processing image 1700/3108\n",
            "Processing image 1800/3108\n",
            "Processing image 1900/3108\n",
            "Processing image 2000/3108\n",
            "Processing image 2100/3108\n",
            "Processing image 2200/3108\n",
            "Processing image 2300/3108\n",
            "Processing image 2400/3108\n",
            "Processing image 2500/3108\n",
            "Processing image 2600/3108\n",
            "Processing image 2700/3108\n",
            "Processing image 2800/3108\n",
            "Processing image 2900/3108\n",
            "Processing image 3000/3108\n",
            "Processing image 3100/3108\n",
            "Extracting features from test data...\n",
            "Processing image 0/777\n",
            "Processing image 100/777\n",
            "Processing image 200/777\n",
            "Processing image 300/777\n",
            "Processing image 400/777\n",
            "Processing image 500/777\n",
            "Processing image 600/777\n",
            "Processing image 700/777\n",
            "Feature shapes: X_train_feat: (3108, 1, 7, 7, 1280), X_test_feat: (777, 1, 7, 7, 1280)\n",
            "Feature extraction completed successfully!\n",
            "2025-05-23 11:50:48,183 - clearml.storage - INFO - Uploading: 162.56MB from /content/drive/MyDrive/AI Studio/BNM_pipeline_ArtifactUsed/new/features.npz\n",
            "█████████████████████████████ 100% | 162.56/162.56 MB [00:02<00:00, 68.58MB/s]: \n"
          ]
        }
      ]
    },
    {
      "cell_type": "code",
      "execution_count": null,
      "id": "fRhc_REbprWz",
      "metadata": {
        "colab": {
          "base_uri": "https://localhost:8080/"
        },
        "id": "fRhc_REbprWz",
        "outputId": "2cb025bf-02a7-47f3-c506-e0360dd82cd7"
      },
      "outputs": [
        {
          "output_type": "stream",
          "name": "stdout",
          "text": [
            "2025-05-23 11:51:12.052233: E external/local_xla/xla/stream_executor/cuda/cuda_fft.cc:477] Unable to register cuFFT factory: Attempting to register factory for plugin cuFFT when one has already been registered\n",
            "WARNING: All log messages before absl::InitializeLog() is called are written to STDERR\n",
            "E0000 00:00:1748001072.088481   40214 cuda_dnn.cc:8310] Unable to register cuDNN factory: Attempting to register factory for plugin cuDNN when one has already been registered\n",
            "E0000 00:00:1748001072.102585   40214 cuda_blas.cc:1418] Unable to register cuBLAS factory: Attempting to register factory for plugin cuBLAS when one has already been registered\n",
            "2025-05-23 11:51:12.153703: I tensorflow/core/platform/cpu_feature_guard.cc:210] This TensorFlow binary is optimized to use available CPU instructions in performance-critical operations.\n",
            "To enable the following instructions: AVX2 FMA, in other operations, rebuild TensorFlow with the appropriate compiler flags.\n",
            "ClearML Task: created new task id=e4ab078ce33a4e66a0fb6bfe8ab889e5\n",
            "2025-05-23 11:51:19,618 - clearml.Task - INFO - No repository found, storing script code instead\n",
            "ClearML results page: https://app.clear.ml/projects/7c71487eea344d3ea8a50eb5f6ac73cc/experiments/e4ab078ce33a4e66a0fb6bfe8ab889e5/output/log\n",
            "Initial default hyperparameters dictionary: {'learning_rate': 0.001, 'batch_size': 32, 'num_units_1': 512, 'num_units_2': 512, 'dropout_rate': 0.5, 'epochs': 1}\n",
            "Effective parameters after task.connect(): {'learning_rate': 0.001, 'batch_size': 32, 'num_units_1': 512, 'num_units_2': 512, 'dropout_rate': 0.5, 'epochs': 1}\n",
            "Typed effective parameters for script use: {'learning_rate': 0.001, 'batch_size': 32, 'num_units_1': 512, 'num_units_2': 512, 'dropout_rate': 0.5, 'epochs': 1}\n",
            "2025-05-23 11:51:22,543 - clearml.task - WARNING - Requirement ignored, Task.add_requirements() must be called before Task.init()\n",
            "2025-05-23 11:51:22,544 - clearml.task - WARNING - Requirement ignored, Task.add_requirements() must be called before Task.init()\n",
            "2025-05-23 11:51:22,901 - clearml.util - WARNING - 3 task found when searching for `{'project_name': 'BNM Pipeline HPO', 'task_name': 'Step 2 - Feature Extraction', 'include_archived': True}`\n",
            "2025-05-23 11:51:22,902 - clearml.util - WARNING - Selected task `Step 2 - Feature Extraction` (id=a2d4d6d5375e4171827427de910026a2)\n",
            "ClearML Monitor: GPU monitoring failed getting GPU reading, switching off GPU monitoring\n",
            "2025-05-23 11:51:23,566 - clearml.storage - INFO - Downloading: 162.56MB from https://files.clear.ml/BNM%20Pipeline%20HPO/Step%202%20-%20Feature%20Extraction.a2d4d6d5375e4171827427de910026a2/artifacts/features/features.npz\n",
            "████████████████████████████ 100% | 162.56/162.56 MB [00:01<00:00, 117.17MB/s]: \n",
            "2025-05-23 11:51:24,956 - clearml.storage - INFO - Downloaded 162.56 MB successfully from https://files.clear.ml/BNM%20Pipeline%20HPO/Step%202%20-%20Feature%20Extraction.a2d4d6d5375e4171827427de910026a2/artifacts/features/features.npz , saved to /root/.clearml/cache/storage_manager/global/824485700c4ce5fe4e59763d524121ac.features.npz\n",
            "Loading features from: /root/.clearml/cache/storage_manager/global/824485700c4ce5fe4e59763d524121ac.features.npz\n",
            "Feature shapes: X_train_feat: (3108, 1, 7, 7, 1280), X_test_feat: (777, 1, 7, 7, 1280)\n",
            "Label shapes: y_train: (3108,), y_test: (777,)\n",
            "Reshaped features: X_train_feat: (3108, 62720), X_test_feat: (777, 62720)\n",
            "Eye detection dataset: 1554 training samples, 388 testing samples\n",
            "Yawn detection dataset: 1554 training samples, 389 testing samples\n",
            "\n",
            "--- TRAINING EYE MODEL WITH 1 EPOCHS (Batch: 32, LR: 0.001) ---\n",
            "/usr/local/lib/python3.11/dist-packages/keras/src/layers/core/dense.py:87: UserWarning:\n",
            "\n",
            "Do not pass an `input_shape`/`input_dim` argument to a layer. When using Sequential models, prefer using an `Input(shape)` object as the first layer in the model instead.\n",
            "\n",
            "2025-05-23 11:51:29.178837: E external/local_xla/xla/stream_executor/cuda/cuda_driver.cc:152] failed call to cuInit: INTERNAL: CUDA error: Failed call to cuInit: UNKNOWN ERROR (303)\n",
            "Training eye detection model...\n",
            "2025-05-23 11:51:29.941455: W external/local_xla/xla/tsl/framework/cpu_allocator_impl.cc:83] Allocation of 389867520 exceeds 10% of free system memory.\n",
            "49/49 - 44s - 903ms/step - accuracy: 0.6667 - loss: 0.7439 - val_accuracy: 0.3170 - val_loss: 13.3470\n",
            "WARNING:absl:You are saving your model as an HDF5 file via `model.save()` or `keras.saving.save_model(model)`. This file format is considered legacy. We recommend using instead the native Keras format, e.g. `model.save('my_model.keras')` or `keras.saving.save_model(model, 'my_model.keras')`. \n",
            "\n",
            "--- TRAINING YAWN MODEL WITH 1 EPOCHS (Batch: 32, LR: 0.001) ---\n",
            "Training yawn detection model...\n",
            "2025-05-23 11:53:13.911666: W external/local_xla/xla/tsl/framework/cpu_allocator_impl.cc:83] Allocation of 389867520 exceeds 10% of free system memory.\n",
            "2025-05-23 11:53:17,532 - clearml.storage - INFO - Uploading: 370.59MB from /content/drive/MyDrive/AI Studio/BNM_pipeline_ArtifactUsed/new/eye_feature_best.h5\n",
            "█████████████████████████████ 100% | 370.59/370.59 MB [00:09<00:00, 37.08MB/s]: \n",
            "49/49 - 37s - 752ms/step - accuracy: 0.6641 - loss: 0.7850 - val_accuracy: 0.6504 - val_loss: 4.2411\n",
            "WARNING:absl:You are saving your model as an HDF5 file via `model.save()` or `keras.saving.save_model(model)`. This file format is considered legacy. We recommend using instead the native Keras format, e.g. `model.save('my_model.keras')` or `keras.saving.save_model(model, 'my_model.keras')`. \n",
            "Final Eye Validation Accuracy: 0.3170\n",
            "Final Yawn Validation Accuracy: 0.6504\n",
            "Final Average Validation Accuracy for HPO: 0.4837\n",
            "Model training script completed.\n",
            "2025-05-23 11:54:18,314 - clearml.storage - INFO - Uploading: 370.59MB from /content/drive/MyDrive/AI Studio/BNM_pipeline_ArtifactUsed/new/yawn_feature_best.h5\n",
            "█████████████████████████████ 100% | 370.59/370.59 MB [00:07<00:00, 51.65MB/s]: \n"
          ]
        }
      ],
      "source": [
        "!python model_training_hpo.py"
      ]
    },
    {
      "cell_type": "code",
      "execution_count": null,
      "id": "34DIisIrQSS6",
      "metadata": {
        "colab": {
          "base_uri": "https://localhost:8080/"
        },
        "id": "34DIisIrQSS6",
        "outputId": "b2b70c41-ad89-408c-d554-1c4aa9c585a0"
      },
      "outputs": [
        {
          "output_type": "stream",
          "name": "stdout",
          "text": [
            "ClearML Task: created new task id=d146c9418a7b4c5b99fc66ac2d0b8daf\n",
            "2025-05-23 11:54:49,184 - clearml.Task - INFO - No repository found, storing script code instead\n",
            "2025-05-23 11:54:51.027383: E external/local_xla/xla/stream_executor/cuda/cuda_fft.cc:477] Unable to register cuFFT factory: Attempting to register factory for plugin cuFFT when one has already been registered\n",
            "WARNING: All log messages before absl::InitializeLog() is called are written to STDERR\n",
            "E0000 00:00:1748001291.072465   41167 cuda_dnn.cc:8310] Unable to register cuDNN factory: Attempting to register factory for plugin cuDNN when one has already been registered\n",
            "E0000 00:00:1748001291.086335   41167 cuda_blas.cc:1418] Unable to register cuBLAS factory: Attempting to register factory for plugin cuBLAS when one has already been registered\n",
            "2025-05-23 11:54:51.148306: I tensorflow/core/platform/cpu_feature_guard.cc:210] This TensorFlow binary is optimized to use available CPU instructions in performance-critical operations.\n",
            "To enable the following instructions: AVX2 FMA, in other operations, rebuild TensorFlow with the appropriate compiler flags.\n",
            "ClearML results page: https://app.clear.ml/projects/7c71487eea344d3ea8a50eb5f6ac73cc/experiments/d146c9418a7b4c5b99fc66ac2d0b8daf/output/log\n",
            "2025-05-23 11:54:57,917 - clearml.task - WARNING - Requirement ignored, Task.add_requirements() must be called before Task.init()\n",
            "2025-05-23 11:54:57,920 - clearml.task - WARNING - Requirement ignored, Task.add_requirements() must be called before Task.init()\n",
            "2025-05-23 11:54:57,921 - clearml.task - WARNING - Requirement ignored, Task.add_requirements() must be called before Task.init()\n",
            "2025-05-23 11:54:57,921 - clearml.task - WARNING - Requirement ignored, Task.add_requirements() must be called before Task.init()\n",
            "HPO parameters: {'num_trials': 10, 'time_limit_minutes': 60, 'execution_queue': 'bnm04', 'max_epochs': 20}\n",
            "2025-05-23 11:54:59,054 - clearml.util - WARNING - 3 task found when searching for `{'project_name': 'BNM Pipeline HPO', 'task_name': 'Step 3 - Model Training HPO', 'include_archived': True}`\n",
            "2025-05-23 11:54:59,055 - clearml.util - WARNING - Selected task `Step 3 - Model Training HPO` (id=e4ab078ce33a4e66a0fb6bfe8ab889e5)\n",
            "Found base task 'Step 3 - Model Training HPO' with ID: e4ab078ce33a4e66a0fb6bfe8ab889e5\n",
            "Initializing HyperParameterOptimizer...\n",
            "ClearML Monitor: GPU monitoring failed getting GPU reading, switching off GPU monitoring\n",
            "2025-05-23 11:55:00,410 - clearml.automation.optimization - WARNING - Could not find requested hyper-parameters ['learning_rate', 'batch_size', 'num_units_1', 'num_units_2', 'dropout_rate', 'epochs'] on base task e4ab078ce33a4e66a0fb6bfe8ab889e5\n",
            "Starting HPO process with 10 trials...\n",
            "\u001b[32m[I 2025-05-23 11:55:00,589]\u001b[0m A new study created in memory with name: d146c9418a7b4c5b99fc66ac2d0b8daf\u001b[0m\n",
            "HPO started with task ID: d146c9418a7b4c5b99fc66ac2d0b8daf. Monitor progress in the ClearML UI.\n",
            "Waiting for optimization to complete (time limit: 60 minutes)...\n",
            "/usr/local/lib/python3.11/dist-packages/clearml/automation/optuna/optuna.py:52: FutureWarning:\n",
            "\n",
            "suggest_discrete_uniform has been deprecated in v3.0.0. This feature will be removed in v6.0.0. See https://github.com/optuna/optuna/releases/tag/v3.0.0. Use suggest_float(..., step=...) instead.\n",
            "\n",
            "Progress report #0 completed, sleeping for 0.25 minutes\n",
            "2025-05-23 11:55:02,412 - clearml.automation.optimization - INFO - Creating new Task: {'learning_rate': 0.0018000000000000002, 'batch_size': 16, 'num_units_1': 384, 'num_units_2': 192, 'dropout_rate': 0.5, 'epochs': 15}\n",
            "2025-05-23 11:55:02,770 - clearml.automation.optimization - INFO - Creating new Task: {'learning_rate': 0.0002, 'batch_size': 64, 'num_units_1': 320, 'num_units_2': 320, 'dropout_rate': 0.5, 'epochs': 20}\n",
            "Progress report #1 completed, sleeping for 5.0 minutes\n",
            "Progress report #2 completed, sleeping for 5.0 minutes\n",
            "Progress report #3 completed, sleeping for 5.0 minutes\n",
            "Progress report #4 completed, sleeping for 5.0 minutes\n",
            "OptunaObjective result metric=0.7220072448253632, iteration (20, 0.7220072746276855)\n",
            "\u001b[32m[I 2025-05-23 12:11:49,129]\u001b[0m Trial 0 finished with value: 0.7220072448253632 and parameters: {'learning_rate': 0.0002, 'batch_size': 64, 'num_units_1': 320, 'num_units_2': 320, 'dropout_rate': 0.5, 'epochs': 20}. Best is trial 0 with value: 0.7220072448253632.\u001b[0m\n",
            "2025-05-23 12:11:50,674 - clearml.automation.optimization - INFO - Creating new Task: {'learning_rate': 0.005200000000000001, 'batch_size': 16, 'num_units_1': 512, 'num_units_2': 448, 'dropout_rate': 0.30000000000000004, 'epochs': 10}\n",
            "Updating job performance summary plot/table\n",
            "Progress report #5 completed, sleeping for 5.0 minutes\n",
            "Progress report #6 completed, sleeping for 5.0 minutes\n",
            "Progress report #7 completed, sleeping for 5.0 minutes\n",
            "Progress report #8 completed, sleeping for 5.0 minutes\n",
            "Progress report #9 completed, sleeping for 5.0 minutes\n",
            "/usr/local/lib/python3.11/dist-packages/optuna/trial/_trial.py:497: UserWarning:\n",
            "\n",
            "The reported value is ignored because this `step` 15 is already reported.\n",
            "\n",
            "OptunaObjective result metric=0.8249244689941406, iteration (15, 0.8249244689941406)\n",
            "\u001b[32m[I 2025-05-23 12:37:06,474]\u001b[0m Trial 1 finished with value: 0.8249244689941406 and parameters: {'learning_rate': 0.0018000000000000002, 'batch_size': 16, 'num_units_1': 384, 'num_units_2': 192, 'dropout_rate': 0.5, 'epochs': 15}. Best is trial 1 with value: 0.8249244689941406.\u001b[0m\n",
            "2025-05-23 12:37:08,100 - clearml.automation.optimization - INFO - Creating new Task: {'learning_rate': 0.0054, 'batch_size': 16, 'num_units_1': 256, 'num_units_2': 384, 'dropout_rate': 0.4, 'epochs': 20}\n",
            "Updating job performance summary plot/table\n",
            "Progress report #10 completed, sleeping for 5.0 minutes\n",
            "/usr/local/lib/python3.11/dist-packages/optuna/trial/_trial.py:497: UserWarning:\n",
            "\n",
            "The reported value is ignored because this `step` 10 is already reported.\n",
            "\n",
            "OptunaObjective result metric=0.6074092984199524, iteration (10, 0.6074092984199524)\n",
            "\u001b[32m[I 2025-05-23 12:42:16,031]\u001b[0m Trial 2 finished with value: 0.6074092984199524 and parameters: {'learning_rate': 0.005200000000000001, 'batch_size': 16, 'num_units_1': 512, 'num_units_2': 448, 'dropout_rate': 0.30000000000000004, 'epochs': 10}. Best is trial 1 with value: 0.8249244689941406.\u001b[0m\n",
            "2025-05-23 12:42:17,611 - clearml.automation.optimization - INFO - Creating new Task: {'learning_rate': 0.006900000000000001, 'batch_size': 64, 'num_units_1': 384, 'num_units_2': 320, 'dropout_rate': 0.5, 'epochs': 20}\n",
            "Progress report #11 completed, sleeping for 5.0 minutes\n",
            "Progress report #12 completed, sleeping for 5.0 minutes\n",
            "Best training task ID: 9d77557650ec468bb198fa8562fab20f\n",
            "Best parameters: {'TF_DEFINE/logtostderr': 'False', 'TF_DEFINE/alsologtostderr': 'False', 'TF_DEFINE/log_dir': '', 'TF_DEFINE/v': '-1', 'TF_DEFINE/verbosity': '-1', 'TF_DEFINE/logger_levels': '{}', 'TF_DEFINE/stderrthreshold': 'fatal', 'TF_DEFINE/showprefixforinfo': 'True', 'TF_DEFINE/run_with_pdb': 'False', 'TF_DEFINE/pdb_post_mortem': 'False', 'TF_DEFINE/pdb': 'False', 'TF_DEFINE/run_with_profiling': 'False', 'TF_DEFINE/profile_file': '', 'TF_DEFINE/use_cprofile_for_profiling': 'True', 'TF_DEFINE/only_check_args': 'False', 'TF_DEFINE/op_conversion_fallback_to_while_loop': 'True', 'TF_DEFINE/delta_threshold': '0.5', 'TF_DEFINE/tt_check_filter': 'False', 'TF_DEFINE/tt_single_core_summaries': 'False', 'TF_DEFINE/runtime_oom_exit': 'True', 'TF_DEFINE/hbm_oom_exit': 'True', 'TF_DEFINE/test_srcdir': '', 'TF_DEFINE/test_tmpdir': '/tmp/absl_testing', 'TF_DEFINE/test_random_seed': '301', 'TF_DEFINE/test_randomize_ordering_seed': '', 'TF_DEFINE/xml_output_file': '', 'General/learning_rate': '0.0018000000000000002', 'General/batch_size': '16', 'General/num_units_1': '384', 'General/num_units_2': '192', 'General/dropout_rate': '0.5', 'General/epochs': '15'}\n",
            "2025-05-23 12:55:02,412 - clearml.storage - INFO - Downloading: 276.54MB from https://files.clear.ml/BNM%20Pipeline%20HPO/Step%203%20-%20Model%20Training%20HPO%253A%20batch_size%3D16%20dropout_rate%3D0.5%20epochs%3D15%20learning_rate%3D0.001800000.9d77557650ec468bb198fa8562fab20f/artifacts/eye_model/eye_feature_best.h5\n",
            "█████████████████████████████ 100% | 276.54/276.54 MB [00:03<00:00, 90.26MB/s]: \n",
            "2025-05-23 12:55:05,481 - clearml.storage - INFO - Downloaded 276.54 MB successfully from https://files.clear.ml/BNM%20Pipeline%20HPO/Step%203%20-%20Model%20Training%20HPO%253A%20batch_size%3D16%20dropout_rate%3D0.5%20epochs%3D15%20learning_rate%3D0.001800000.9d77557650ec468bb198fa8562fab20f/artifacts/eye_model/eye_feature_best.h5 , saved to /root/.clearml/cache/storage_manager/global/ec737f10c7e8698e38b7258d32d2b005.eye_feature_best.h5\n",
            "Uploaded best_eye_model from task 9d77557650ec468bb198fa8562fab20f to HPO task d146c9418a7b4c5b99fc66ac2d0b8daf\n",
            "2025-05-23 12:55:07,283 - clearml.storage - INFO - Downloading: 276.54MB from https://files.clear.ml/BNM%20Pipeline%20HPO/Step%203%20-%20Model%20Training%20HPO%253A%20batch_size%3D16%20dropout_rate%3D0.5%20epochs%3D15%20learning_rate%3D0.001800000.9d77557650ec468bb198fa8562fab20f/artifacts/yawn_model/yawn_feature_best.h5\n",
            "███████████▋                  42% | 115.00/276.54 MB [00:01<00:01, 106.58MB/s]: 2025-05-23 12:55:08,343 - clearml.storage - INFO - Uploading: 276.54MB from /root/.clearml/cache/storage_manager/global/ec737f10c7e8698e38b7258d32d2b005.eye_feature_best.h5\n",
            "█████████████████████████████ 100% | 276.54/276.54 MB [00:03<00:00, 88.79MB/s]: \n",
            "2025-05-23 12:55:10,401 - clearml.storage - INFO - Downloaded 276.54 MB successfully from https://files.clear.ml/BNM%20Pipeline%20HPO/Step%203%20-%20Model%20Training%20HPO%253A%20batch_size%3D16%20dropout_rate%3D0.5%20epochs%3D15%20learning_rate%3D0.001800000.9d77557650ec468bb198fa8562fab20f/artifacts/yawn_model/yawn_feature_best.h5 , saved to /root/.clearml/cache/storage_manager/global/adece05fc7bf5a56a4429f74fbf776a8.yawn_feature_best.h5\n",
            "████████████████████████████▊  99% | 275.00/276.54 MB [00:04<00:00, 51.93MB/s]: Uploaded best_yawn_model from task 9d77557650ec468bb198fa8562fab20f to HPO task d146c9418a7b4c5b99fc66ac2d0b8daf\n",
            "█████████████████████████████ 100% | 276.54/276.54 MB [00:06<00:00, 42.72MB/s]: \n",
            "Uploaded best_eye_history from task 9d77557650ec468bb198fa8562fab20f to HPO task d146c9418a7b4c5b99fc66ac2d0b8daf\n",
            "Uploaded best_yawn_history from task 9d77557650ec468bb198fa8562fab20f to HPO task d146c9418a7b4c5b99fc66ac2d0b8daf\n",
            "HPO task d146c9418a7b4c5b99fc66ac2d0b8daf finished. Best models and parameters (if any) are uploaded as artifacts.\n",
            "2025-05-23 12:55:20,364 - clearml.storage - INFO - Uploading: 276.54MB from /root/.clearml/cache/storage_manager/global/adece05fc7bf5a56a4429f74fbf776a8.yawn_feature_best.h5\n",
            "█████████████████████████████ 100% | 276.54/276.54 MB [00:04<00:00, 57.62MB/s]: \n",
            "Progress report #13 completed, sleeping for 5.0 minutes\n",
            "OptunaObjective result metric=0.7619689702987671, iteration (20, 0.7619689702987671)\n",
            "\u001b[32m[I 2025-05-23 12:57:19,021]\u001b[0m Trial 4 finished with value: 0.7619689702987671 and parameters: {'learning_rate': 0.006900000000000001, 'batch_size': 64, 'num_units_1': 384, 'num_units_2': 320, 'dropout_rate': 0.5, 'epochs': 20}. Best is trial 1 with value: 0.8249244689941406.\u001b[0m\n",
            "Updating job performance summary plot/table\n",
            "Progress report #14 completed, sleeping for 5.0 minutes\n",
            "OptunaObjective result metric=0.752918541431427, iteration (20, 0.752918541431427)\n",
            "\u001b[32m[I 2025-05-23 13:04:34,915]\u001b[0m Trial 3 finished with value: 0.752918541431427 and parameters: {'learning_rate': 0.0054, 'batch_size': 16, 'num_units_1': 256, 'num_units_2': 384, 'dropout_rate': 0.4, 'epochs': 20}. Best is trial 1 with value: 0.8249244689941406.\u001b[0m\n",
            "Exception in thread Thread-6 (_daemon):\n",
            "Traceback (most recent call last):\n",
            "  File \"/usr/lib/python3.11/threading.py\", line 1045, in _bootstrap_inner\n",
            "    self.run()\n",
            "  File \"/usr/lib/python3.11/threading.py\", line 982, in run\n",
            "    self._target(*self._args, **self._kwargs)\n",
            "  File \"/usr/local/lib/python3.11/dist-packages/clearml/automation/optimization.py\", line 2051, in _daemon\n",
            "    self.optimizer.start()\n",
            "  File \"/usr/local/lib/python3.11/dist-packages/clearml/automation/optuna/optuna.py\", line 223, in start\n",
            "    self._study.optimize(\n",
            "  File \"/usr/local/lib/python3.11/dist-packages/optuna/study/study.py\", line 475, in optimize\n",
            "    _optimize(\n",
            "  File \"/usr/local/lib/python3.11/dist-packages/optuna/study/_optimize.py\", line 103, in _optimize\n",
            "    executor.submit(\n",
            "  File \"/usr/lib/python3.11/concurrent/futures/thread.py\", line 167, in submit\n",
            "    raise RuntimeError('cannot schedule new futures after shutdown')\n",
            "RuntimeError: cannot schedule new futures after shutdown\n"
          ]
        }
      ],
      "source": [
        "!python hpo_optimizer.py"
      ]
    },
    {
      "cell_type": "code",
      "execution_count": null,
      "id": "wwWrYBiZQU05",
      "metadata": {
        "colab": {
          "base_uri": "https://localhost:8080/"
        },
        "id": "wwWrYBiZQU05",
        "outputId": "a3833500-79f1-49e2-9eca-6312c7e696aa"
      },
      "outputs": [
        {
          "output_type": "stream",
          "name": "stdout",
          "text": [
            "Running NEW version of model_evaluation_hpo.py\n",
            "2025-05-23 22:50:42.281365: E external/local_xla/xla/stream_executor/cuda/cuda_fft.cc:477] Unable to register cuFFT factory: Attempting to register factory for plugin cuFFT when one has already been registered\n",
            "WARNING: All log messages before absl::InitializeLog() is called are written to STDERR\n",
            "E0000 00:00:1748040642.309045    2123 cuda_dnn.cc:8310] Unable to register cuDNN factory: Attempting to register factory for plugin cuDNN when one has already been registered\n",
            "E0000 00:00:1748040642.317054    2123 cuda_blas.cc:1418] Unable to register cuBLAS factory: Attempting to register factory for plugin cuBLAS when one has already been registered\n",
            "2025-05-23 22:50:42.343767: I tensorflow/core/platform/cpu_feature_guard.cc:210] This TensorFlow binary is optimized to use available CPU instructions in performance-critical operations.\n",
            "To enable the following instructions: AVX2 FMA, in other operations, rebuild TensorFlow with the appropriate compiler flags.\n",
            "ClearML Task: created new task id=b74081b1f7b0488d981907e713bf39ba\n",
            "2025-05-23 22:50:46,962 - clearml.Task - INFO - No repository found, storing script code instead\n",
            "ClearML results page: https://app.clear.ml/projects/7c71487eea344d3ea8a50eb5f6ac73cc/experiments/b74081b1f7b0488d981907e713bf39ba/output/log\n",
            "2025-05-23 22:50:48,421 - clearml.task - WARNING - Requirement ignored, Task.add_requirements() must be called before Task.init()\n",
            "2025-05-23 22:50:48,427 - clearml.task - WARNING - Requirement ignored, Task.add_requirements() must be called before Task.init()\n",
            "2025-05-23 22:50:48,428 - clearml.task - WARNING - Requirement ignored, Task.add_requirements() must be called before Task.init()\n",
            "2025-05-23 22:50:48,561 - clearml.util - WARNING - 3 task found when searching for `{'project_name': 'BNM Pipeline HPO', 'task_name': 'Step 4 - Hyperparameter Optimization', 'include_archived': True}`\n",
            "2025-05-23 22:50:48,562 - clearml.util - WARNING - Selected task `Step 4 - Hyperparameter Optimization` (id=d146c9418a7b4c5b99fc66ac2d0b8daf)\n",
            "Best parameters from HPO: {'TF_DEFINE/logtostderr': 'False', 'TF_DEFINE/alsologtostderr': 'False', 'TF_DEFINE/log_dir': '', 'TF_DEFINE/v': '-1', 'TF_DEFINE/verbosity': '-1', 'TF_DEFINE/logger_levels': '{}', 'TF_DEFINE/stderrthreshold': 'fatal', 'TF_DEFINE/showprefixforinfo': 'True', 'TF_DEFINE/run_with_pdb': 'False', 'TF_DEFINE/pdb_post_mortem': 'False', 'TF_DEFINE/pdb': 'False', 'TF_DEFINE/run_with_profiling': 'False', 'TF_DEFINE/profile_file': '', 'TF_DEFINE/use_cprofile_for_profiling': 'True', 'TF_DEFINE/only_check_args': 'False', 'TF_DEFINE/op_conversion_fallback_to_while_loop': 'True', 'TF_DEFINE/delta_threshold': '0.5', 'TF_DEFINE/tt_check_filter': 'False', 'TF_DEFINE/tt_single_core_summaries': 'False', 'TF_DEFINE/runtime_oom_exit': 'True', 'TF_DEFINE/hbm_oom_exit': 'True', 'TF_DEFINE/test_srcdir': '', 'TF_DEFINE/test_tmpdir': '/tmp/absl_testing', 'TF_DEFINE/test_random_seed': '301', 'TF_DEFINE/test_randomize_ordering_seed': '', 'TF_DEFINE/xml_output_file': '', 'General/learning_rate': '0.0018000000000000002', 'General/batch_size': '16', 'General/num_units_1': '384', 'General/num_units_2': '192', 'General/dropout_rate': '0.5', 'General/epochs': '15'}\n",
            "2025-05-23 22:50:48,807 - clearml.storage - INFO - Downloading: 276.54MB from https://files.clear.ml/BNM%20Pipeline%20HPO/Step%204%20-%20Hyperparameter%20Optimization.d146c9418a7b4c5b99fc66ac2d0b8daf/artifacts/best_eye_model/ec737f10c7e8698e38b7258d32d2b005.eye_feature_best.h5\n",
            "████████████████████▊         74% | 205.00/276.54 MB [00:00<00:00, 237.03MB/s]: ClearML Monitor: GPU monitoring failed getting GPU reading, switching off GPU monitoring\n",
            "████████████████████████████ 100% | 276.54/276.54 MB [00:01<00:00, 222.99MB/s]: \n",
            "2025-05-23 22:50:50,050 - clearml.storage - INFO - Downloaded 276.54 MB successfully from https://files.clear.ml/BNM%20Pipeline%20HPO/Step%204%20-%20Hyperparameter%20Optimization.d146c9418a7b4c5b99fc66ac2d0b8daf/artifacts/best_eye_model/ec737f10c7e8698e38b7258d32d2b005.eye_feature_best.h5 , saved to /root/.clearml/cache/storage_manager/global/b9670b1b2ad2381202112c69f0257d28.ec737f10c7e8698e38b7258d32d2b005.eye_feature_best.h5\n",
            "2025-05-23 22:50:50,297 - clearml.storage - INFO - Downloading: 276.54MB from https://files.clear.ml/BNM%20Pipeline%20HPO/Step%204%20-%20Hyperparameter%20Optimization.d146c9418a7b4c5b99fc66ac2d0b8daf/artifacts/best_yawn_model/adece05fc7bf5a56a4429f74fbf776a8.yawn_feature_best.h5\n",
            "█████████████████████████████ 100% | 276.54/276.54 MB [00:03<00:00, 84.22MB/s]: \n",
            "2025-05-23 22:50:53,582 - clearml.storage - INFO - Downloaded 276.54 MB successfully from https://files.clear.ml/BNM%20Pipeline%20HPO/Step%204%20-%20Hyperparameter%20Optimization.d146c9418a7b4c5b99fc66ac2d0b8daf/artifacts/best_yawn_model/adece05fc7bf5a56a4429f74fbf776a8.yawn_feature_best.h5 , saved to /root/.clearml/cache/storage_manager/global/3d8bc43f4dc9d4ab9d832811769d2877.adece05fc7bf5a56a4429f74fbf776a8.yawn_feature_best.h5\n",
            "2025-05-23 22:50:53,749 - clearml.util - WARNING - 3 task found when searching for `{'project_name': 'BNM Pipeline HPO', 'task_name': 'Step 2 - Feature Extraction', 'include_archived': True}`\n",
            "2025-05-23 22:50:53,750 - clearml.util - WARNING - Selected task `Step 2 - Feature Extraction` (id=a2d4d6d5375e4171827427de910026a2)\n",
            "2025-05-23 22:50:53,902 - clearml.storage - INFO - Downloading: 162.56MB from https://files.clear.ml/BNM%20Pipeline%20HPO/Step%202%20-%20Feature%20Extraction.a2d4d6d5375e4171827427de910026a2/artifacts/features/features.npz\n",
            "████████████████████████████ 100% | 162.56/162.56 MB [00:00<00:00, 280.19MB/s]: \n",
            "2025-05-23 22:50:54,484 - clearml.storage - INFO - Downloaded 162.56 MB successfully from https://files.clear.ml/BNM%20Pipeline%20HPO/Step%202%20-%20Feature%20Extraction.a2d4d6d5375e4171827427de910026a2/artifacts/features/features.npz , saved to /root/.clearml/cache/storage_manager/global/824485700c4ce5fe4e59763d524121ac.features.npz\n",
            "Test data shapes: X_test_feat: (777, 1, 7, 7, 1280), y_test: (777,)\n",
            "Reshaped test features: (777, 62720)\n",
            "2025-05-23 22:50:55.401924: E external/local_xla/xla/stream_executor/cuda/cuda_driver.cc:152] failed call to cuInit: INTERNAL: CUDA error: Failed call to cuInit: UNKNOWN ERROR (303)\n",
            "WARNING:absl:Compiled the loaded model, but the compiled metrics have yet to be built. `model.compile_metrics` will be empty until you train or evaluate the model.\n",
            "WARNING:absl:Compiled the loaded model, but the compiled metrics have yet to be built. `model.compile_metrics` will be empty until you train or evaluate the model.\n",
            "\u001b[1m13/13\u001b[0m \u001b[32m━━━━━━━━━━━━━━━━━━━━\u001b[0m\u001b[37m\u001b[0m \u001b[1m1s\u001b[0m 47ms/step - accuracy: 0.7779 - loss: 0.4799\n",
            "\u001b[1m13/13\u001b[0m \u001b[32m━━━━━━━━━━━━━━━━━━━━\u001b[0m\u001b[37m\u001b[0m \u001b[1m1s\u001b[0m 55ms/step - accuracy: 0.8664 - loss: 0.3249\n",
            "Eye Model Test Accuracy: 0.7912\n",
            "Yawn Model Test Accuracy: 0.8586\n",
            "Overall Average Accuracy of Best HPO Models: 0.8249\n",
            "WARNING:absl:You are saving your model as an HDF5 file via `model.save()` or `keras.saving.save_model(model)`. This file format is considered legacy. We recommend using instead the native Keras format, e.g. `model.save('my_model.keras')` or `keras.saving.save_model(model, 'my_model.keras')`. \n",
            "WARNING:absl:You are saving your model as an HDF5 file via `model.save()` or `keras.saving.save_model(model)`. This file format is considered legacy. We recommend using instead the native Keras format, e.g. `model.save('my_model.keras')` or `keras.saving.save_model(model, 'my_model.keras')`. \n",
            "Model evaluation completed successfully!\n",
            "2025-05-23 22:51:21,440 - clearml.storage - INFO - Uploading: 92.21MB from /content/drive/MyDrive/AI Studio/BNM_pipeline_ArtifactUsed/new/final_yawn_model.h5\n",
            "                                           0% | 0.00/92.21 MB [00:00<?, ?MB/s]: 2025-05-23 22:51:21,568 - clearml.storage - INFO - Uploading: 92.21MB from /content/drive/MyDrive/AI Studio/BNM_pipeline_ArtifactUsed/new/final_eye_model.h5\n",
            "\n",
            "███▎                             11% | 10.00/92.21 MB [00:00<00:01, 65.71MB/s]: \n",
            "██████████                       33% | 30.00/92.21 MB [00:00<00:01, 43.23MB/s]: \n",
            "█████████████▍                   43% | 40.00/92.21 MB [00:00<00:01, 39.16MB/s]: \n",
            "████████████████▊                54% | 50.00/92.21 MB [00:01<00:01, 39.31MB/s]: \n",
            "████████████████████▏            65% | 60.00/92.21 MB [00:01<00:00, 40.12MB/s]: \n",
            "█████████████████████▊           70% | 65.00/92.21 MB [00:01<00:00, 40.12MB/s]: \n",
            "███████████████████████▌         76% | 70.00/92.21 MB [00:01<00:00, 41.89MB/s]: \n",
            "██████████████████████████▉      87% | 80.00/92.21 MB [00:01<00:00, 48.51MB/s]: \n",
            "████████████████████████████▌    92% | 85.00/92.21 MB [00:01<00:00, 43.81MB/s]: \n",
            "██████████████████████████████▎  98% | 90.00/92.21 MB [00:04<00:00,  5.87MB/s]: \n",
            "█████████████████████▊           70% | 65.00/92.21 MB [00:04<00:03,  7.38MB/s]: \u001b[A\n",
            "█████████████████████████▏       81% | 75.00/92.21 MB [00:05<00:01, 11.87MB/s]: \u001b[A\n",
            "████████████████████████████▌    92% | 85.00/92.21 MB [00:05<00:00, 17.20MB/s]: \u001b[A\n",
            "███████████████████████████████ 100% | 92.21/92.21 MB [00:05<00:00, 16.74MB/s]: \n",
            "███████████████████████████████ 100% | 92.21/92.21 MB [00:06<00:00, 14.70MB/s]: \n"
          ]
        }
      ],
      "source": [
        "!python model_evaluation_hpo.py"
      ]
    },
    {
      "cell_type": "code",
      "source": [
        "!python pipeline_controller.py"
      ],
      "metadata": {
        "colab": {
          "base_uri": "https://localhost:8080/"
        },
        "id": "sL6LYUlLdrpn",
        "outputId": "e68dcdbe-c8ee-4359-9c3c-f220e281ca5b"
      },
      "id": "sL6LYUlLdrpn",
      "execution_count": null,
      "outputs": [
        {
          "output_type": "stream",
          "name": "stdout",
          "text": [
            "ClearML Task: created new task id=9734df0d100c4958933d312876b1b7b2\n",
            "2025-05-24 01:59:33.773515: E external/local_xla/xla/stream_executor/cuda/cuda_fft.cc:477] Unable to register cuFFT factory: Attempting to register factory for plugin cuFFT when one has already been registered\n",
            "WARNING: All log messages before absl::InitializeLog() is called are written to STDERR\n",
            "E0000 00:00:1748051973.798013   47949 cuda_dnn.cc:8310] Unable to register cuDNN factory: Attempting to register factory for plugin cuDNN when one has already been registered\n",
            "E0000 00:00:1748051973.806183   47949 cuda_blas.cc:1418] Unable to register cuBLAS factory: Attempting to register factory for plugin cuBLAS when one has already been registered\n",
            "2025-05-24 01:59:33.831344: I tensorflow/core/platform/cpu_feature_guard.cc:210] This TensorFlow binary is optimized to use available CPU instructions in performance-critical operations.\n",
            "To enable the following instructions: AVX2 FMA, in other operations, rebuild TensorFlow with the appropriate compiler flags.\n",
            "ClearML results page: https://app.clear.ml/projects/1632eccf3da64326b546e1ec4b8442b5/experiments/9734df0d100c4958933d312876b1b7b2/output/log\n",
            "ClearML pipeline page: https://app.clear.ml/pipelines/1632eccf3da64326b546e1ec4b8442b5/experiments/9734df0d100c4958933d312876b1b7b2\n",
            "3 task found when searching for `{'project_name': 'BNM Pipeline HPO', 'task_name': 'Step 1 - Smart Data Preprocessing (Deep Scan)', 'include_archived': True, 'task_filter': {'status': ['created', 'queued', 'in_progress', 'published', 'stopped', 'completed', 'closed']}}`\n",
            "Selected task `Step 1 - Smart Data Preprocessing (Deep Scan)` (id=b326379b6bf24cc2bbce4f5e0c6f2359)\n",
            "3 task found when searching for `{'project_name': 'BNM Pipeline HPO', 'task_name': 'Step 2 - Feature Extraction', 'include_archived': True, 'task_filter': {'status': ['created', 'queued', 'in_progress', 'published', 'stopped', 'completed', 'closed']}}`\n",
            "Selected task `Step 2 - Feature Extraction` (id=a2d4d6d5375e4171827427de910026a2)\n",
            "3 task found when searching for `{'project_name': 'BNM Pipeline HPO', 'task_name': 'Step 3 - Model Training HPO', 'include_archived': True, 'task_filter': {'status': ['created', 'queued', 'in_progress', 'published', 'stopped', 'completed', 'closed']}}`\n",
            "Selected task `Step 3 - Model Training HPO` (id=e4ab078ce33a4e66a0fb6bfe8ab889e5)\n",
            "3 task found when searching for `{'project_name': 'BNM Pipeline HPO', 'task_name': 'Step 4 - Hyperparameter Optimization', 'include_archived': True, 'task_filter': {'status': ['created', 'queued', 'in_progress', 'published', 'stopped', 'completed', 'closed']}}`\n",
            "Selected task `Step 4 - Hyperparameter Optimization` (id=d146c9418a7b4c5b99fc66ac2d0b8daf)\n",
            "6 task found when searching for `{'project_name': 'BNM Pipeline HPO', 'task_name': 'Step 5 - Model Evaluation HPO', 'include_archived': True, 'task_filter': {'status': ['created', 'queued', 'in_progress', 'published', 'stopped', 'completed', 'closed']}}`\n",
            "Selected task `Step 5 - Model Evaluation HPO` (id=b74081b1f7b0488d981907e713bf39ba)\n",
            "Launching the next 1 steps\n",
            "Launching step [preprocessing]\n",
            "Launching step: preprocessing\n",
            "Parameters:\n",
            "None\n",
            "Configurations:\n",
            "{}\n",
            "Overrides:\n",
            "{}\n",
            "Launching the next 1 steps\n",
            "Launching step [feature_extraction]\n",
            "Launching step: feature_extraction\n",
            "Parameters:\n",
            "None\n",
            "Configurations:\n",
            "{}\n",
            "Overrides:\n",
            "{}\n",
            "Launching the next 1 steps\n",
            "Launching step [model_training_base]\n",
            "Launching step: model_training_base\n",
            "Parameters:\n",
            "None\n",
            "Configurations:\n",
            "{}\n",
            "Overrides:\n",
            "{}\n",
            "Launching the next 1 steps\n",
            "Launching step [hpo]\n",
            "Launching step: hpo\n",
            "Parameters:\n",
            "{'Args/num_trials': 10, 'Args/time_limit_minutes': 60, 'Args/max_epochs': 20}\n",
            "Configurations:\n",
            "{}\n",
            "Overrides:\n",
            "{}\n",
            "Launching the next 1 steps\n",
            "Launching step [model_evaluation]\n",
            "Launching step: model_evaluation\n",
            "Parameters:\n",
            "None\n",
            "Configurations:\n",
            "{}\n",
            "Overrides:\n",
            "{}\n",
            "Launching the next 0 steps\n",
            "Pipeline started! Monitor progress in the ClearML UI.\n"
          ]
        }
      ]
    }
  ],
  "metadata": {
    "colab": {
      "provenance": []
    },
    "kernelspec": {
      "display_name": "Python 3",
      "name": "python3"
    },
    "language_info": {
      "name": "python"
    }
  },
  "nbformat": 4,
  "nbformat_minor": 5
}