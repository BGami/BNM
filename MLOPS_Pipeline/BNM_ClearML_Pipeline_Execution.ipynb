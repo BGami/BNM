{
  "cells": [
    {
      "cell_type": "markdown",
      "metadata": {
        "id": "7jPjdXeedeGn"
      },
      "source": [
        "# BNM Pipeline with ClearML Remote Execution\n",
        "\n",
        "This notebook sets up and runs the BNM Pipeline remotely using ClearML with the BNM01 queue."
      ]
    },
    {
      "cell_type": "markdown",
      "metadata": {
        "id": "8CmnxmSbdeGp"
      },
      "source": [
        "## 1. Install and Configure ClearML"
      ]
    },
    {
      "cell_type": "code",
      "execution_count": null,
      "metadata": {
        "colab": {
          "base_uri": "https://localhost:8080/"
        },
        "id": "wBFaOsiEJWIi",
        "outputId": "bcb3987d-3567-4046-cb25-2b7ccb7442cc"
      },
      "outputs": [
        {
          "output_type": "stream",
          "name": "stdout",
          "text": [
            "/content/drive/MyDrive/AI Studio/BNM_pipeline_ArtifactUsed\n"
          ]
        }
      ],
      "source": [
        "cd /content/drive/MyDrive/AI Studio/BNM_pipeline_ArtifactUsed"
      ]
    },
    {
      "cell_type": "code",
      "execution_count": null,
      "metadata": {
        "colab": {
          "base_uri": "https://localhost:8080/"
        },
        "id": "MX9E8F6fJm3n",
        "outputId": "a6aaa3b4-45cb-4926-f31b-5a38eec4559c"
      },
      "outputs": [
        {
          "output_type": "stream",
          "name": "stdout",
          "text": [
            "agent_log.txt               model_evaluation.py\n",
            "bnm_pipeline_controller.py  model_training.py\n",
            "clearml_debug_utils.py      processed_data.npz\n",
            "\u001b[0m\u001b[01;34mDrowsinessDataset\u001b[0m/          requirements.txt\n",
            "DrowsinessDataset.zip       smart_data_preprocessing_deep.py\n",
            "eye_feature_best.h5         start_agent.py\n",
            "eye_history.json            step0_upload_dataset.py\n",
            "feature_extraction.py       yawn_feature_best.h5\n",
            "features.npz                yawn_history.json\n"
          ]
        }
      ],
      "source": [
        "ls"
      ]
    },
    {
      "cell_type": "code",
      "execution_count": null,
      "metadata": {
        "colab": {
          "base_uri": "https://localhost:8080/",
          "height": 1000
        },
        "id": "90h33LJJdeGq",
        "outputId": "f4587ea1-b761-47b6-b889-d3dfc987890d"
      },
      "outputs": [
        {
          "output_type": "stream",
          "name": "stdout",
          "text": [
            "Collecting clearml\n",
            "  Downloading clearml-1.18.0-py2.py3-none-any.whl.metadata (18 kB)\n",
            "Collecting clearml-agent\n",
            "  Downloading clearml_agent-1.9.3-py3-none-any.whl.metadata (19 kB)\n",
            "Requirement already satisfied: attrs>=18.0 in /usr/local/lib/python3.11/dist-packages (from clearml) (25.3.0)\n",
            "Collecting furl>=2.0.0 (from clearml)\n",
            "  Downloading furl-2.1.4-py2.py3-none-any.whl.metadata (25 kB)\n",
            "Requirement already satisfied: jsonschema>=2.6.0 in /usr/local/lib/python3.11/dist-packages (from clearml) (4.23.0)\n",
            "Requirement already satisfied: numpy>=1.10 in /usr/local/lib/python3.11/dist-packages (from clearml) (2.0.2)\n",
            "Collecting pathlib2>=2.3.0 (from clearml)\n",
            "  Downloading pathlib2-2.3.7.post1-py2.py3-none-any.whl.metadata (3.5 kB)\n",
            "Requirement already satisfied: Pillow>=4.1.1 in /usr/local/lib/python3.11/dist-packages (from clearml) (11.2.1)\n",
            "Requirement already satisfied: psutil>=3.4.2 in /usr/local/lib/python3.11/dist-packages (from clearml) (5.9.5)\n",
            "Requirement already satisfied: pyparsing>=2.0.3 in /usr/local/lib/python3.11/dist-packages (from clearml) (3.2.3)\n",
            "Requirement already satisfied: python-dateutil>=2.6.1 in /usr/local/lib/python3.11/dist-packages (from clearml) (2.9.0.post0)\n",
            "Requirement already satisfied: PyYAML>=3.12 in /usr/local/lib/python3.11/dist-packages (from clearml) (6.0.2)\n",
            "Requirement already satisfied: requests>=2.20.0 in /usr/local/lib/python3.11/dist-packages (from clearml) (2.32.3)\n",
            "Requirement already satisfied: six>=1.16.0 in /usr/local/lib/python3.11/dist-packages (from clearml) (1.17.0)\n",
            "Requirement already satisfied: urllib3>=1.21.1 in /usr/local/lib/python3.11/dist-packages (from clearml) (2.4.0)\n",
            "Collecting pyjwt<2.10.0,>=2.4.0 (from clearml)\n",
            "  Downloading PyJWT-2.9.0-py3-none-any.whl.metadata (3.0 kB)\n",
            "Requirement already satisfied: referencing<0.40 in /usr/local/lib/python3.11/dist-packages (from clearml) (0.36.2)\n",
            "Collecting attrs>=18.0 (from clearml)\n",
            "  Downloading attrs-23.2.0-py3-none-any.whl.metadata (9.5 kB)\n",
            "Collecting pyparsing>=2.0.3 (from clearml)\n",
            "  Downloading pyparsing-3.1.4-py3-none-any.whl.metadata (5.1 kB)\n",
            "Collecting python-dateutil>=2.6.1 (from clearml)\n",
            "  Downloading python_dateutil-2.8.2-py2.py3-none-any.whl.metadata (8.2 kB)\n",
            "Collecting pyjwt<2.10.0,>=2.4.0 (from clearml)\n",
            "  Downloading PyJWT-2.8.0-py3-none-any.whl.metadata (4.2 kB)\n",
            "Collecting requests>=2.20.0 (from clearml)\n",
            "  Downloading requests-2.31.0-py3-none-any.whl.metadata (4.6 kB)\n",
            "Collecting six>=1.16.0 (from clearml)\n",
            "  Downloading six-1.16.0-py2.py3-none-any.whl.metadata (1.8 kB)\n",
            "Collecting urllib3>=1.21.1 (from clearml)\n",
            "  Downloading urllib3-1.26.20-py2.py3-none-any.whl.metadata (50 kB)\n",
            "\u001b[2K     \u001b[90m━━━━━━━━━━━━━━━━━━━━━━━━━━━━━━━━━━━━━━━━\u001b[0m \u001b[32m50.1/50.1 kB\u001b[0m \u001b[31m4.0 MB/s\u001b[0m eta \u001b[36m0:00:00\u001b[0m\n",
            "\u001b[?25hCollecting virtualenv<21,>=16 (from clearml-agent)\n",
            "  Downloading virtualenv-20.30.0-py3-none-any.whl.metadata (4.5 kB)\n",
            "Collecting orderedmultidict>=1.0.1 (from furl>=2.0.0->clearml)\n",
            "  Downloading orderedmultidict-1.0.1-py2.py3-none-any.whl.metadata (1.3 kB)\n",
            "Requirement already satisfied: jsonschema-specifications>=2023.03.6 in /usr/local/lib/python3.11/dist-packages (from jsonschema>=2.6.0->clearml) (2025.4.1)\n",
            "Requirement already satisfied: rpds-py>=0.7.1 in /usr/local/lib/python3.11/dist-packages (from jsonschema>=2.6.0->clearml) (0.24.0)\n",
            "Requirement already satisfied: typing-extensions>=4.4.0 in /usr/local/lib/python3.11/dist-packages (from referencing<0.40->clearml) (4.13.2)\n",
            "Requirement already satisfied: charset-normalizer<4,>=2 in /usr/local/lib/python3.11/dist-packages (from requests>=2.20.0->clearml) (3.4.1)\n",
            "Requirement already satisfied: idna<4,>=2.5 in /usr/local/lib/python3.11/dist-packages (from requests>=2.20.0->clearml) (3.10)\n",
            "Requirement already satisfied: certifi>=2017.4.17 in /usr/local/lib/python3.11/dist-packages (from requests>=2.20.0->clearml) (2025.4.26)\n",
            "Collecting distlib<1,>=0.3.7 (from virtualenv<21,>=16->clearml-agent)\n",
            "  Downloading distlib-0.3.9-py2.py3-none-any.whl.metadata (5.2 kB)\n",
            "Requirement already satisfied: filelock<4,>=3.12.2 in /usr/local/lib/python3.11/dist-packages (from virtualenv<21,>=16->clearml-agent) (3.18.0)\n",
            "Requirement already satisfied: platformdirs<5,>=3.9.1 in /usr/local/lib/python3.11/dist-packages (from virtualenv<21,>=16->clearml-agent) (4.3.7)\n",
            "Downloading clearml-1.18.0-py2.py3-none-any.whl (1.2 MB)\n",
            "\u001b[2K   \u001b[90m━━━━━━━━━━━━━━━━━━━━━━━━━━━━━━━━━━━━━━━━\u001b[0m \u001b[32m1.2/1.2 MB\u001b[0m \u001b[31m20.9 MB/s\u001b[0m eta \u001b[36m0:00:00\u001b[0m\n",
            "\u001b[?25hDownloading clearml_agent-1.9.3-py3-none-any.whl (443 kB)\n",
            "\u001b[2K   \u001b[90m━━━━━━━━━━━━━━━━━━━━━━━━━━━━━━━━━━━━━━━━\u001b[0m \u001b[32m443.1/443.1 kB\u001b[0m \u001b[31m29.1 MB/s\u001b[0m eta \u001b[36m0:00:00\u001b[0m\n",
            "\u001b[?25hDownloading attrs-23.2.0-py3-none-any.whl (60 kB)\n",
            "\u001b[2K   \u001b[90m━━━━━━━━━━━━━━━━━━━━━━━━━━━━━━━━━━━━━━━━\u001b[0m \u001b[32m60.8/60.8 kB\u001b[0m \u001b[31m4.8 MB/s\u001b[0m eta \u001b[36m0:00:00\u001b[0m\n",
            "\u001b[?25hDownloading furl-2.1.4-py2.py3-none-any.whl (27 kB)\n",
            "Downloading pathlib2-2.3.7.post1-py2.py3-none-any.whl (18 kB)\n",
            "Downloading PyJWT-2.8.0-py3-none-any.whl (22 kB)\n",
            "Downloading pyparsing-3.1.4-py3-none-any.whl (104 kB)\n",
            "\u001b[2K   \u001b[90m━━━━━━━━━━━━━━━━━━━━━━━━━━━━━━━━━━━━━━━━\u001b[0m \u001b[32m104.1/104.1 kB\u001b[0m \u001b[31m8.8 MB/s\u001b[0m eta \u001b[36m0:00:00\u001b[0m\n",
            "\u001b[?25hDownloading python_dateutil-2.8.2-py2.py3-none-any.whl (247 kB)\n",
            "\u001b[2K   \u001b[90m━━━━━━━━━━━━━━━━━━━━━━━━━━━━━━━━━━━━━━━━\u001b[0m \u001b[32m247.7/247.7 kB\u001b[0m \u001b[31m20.5 MB/s\u001b[0m eta \u001b[36m0:00:00\u001b[0m\n",
            "\u001b[?25hDownloading requests-2.31.0-py3-none-any.whl (62 kB)\n",
            "\u001b[2K   \u001b[90m━━━━━━━━━━━━━━━━━━━━━━━━━━━━━━━━━━━━━━━━\u001b[0m \u001b[32m62.6/62.6 kB\u001b[0m \u001b[31m4.9 MB/s\u001b[0m eta \u001b[36m0:00:00\u001b[0m\n",
            "\u001b[?25hDownloading six-1.16.0-py2.py3-none-any.whl (11 kB)\n",
            "Downloading urllib3-1.26.20-py2.py3-none-any.whl (144 kB)\n",
            "\u001b[2K   \u001b[90m━━━━━━━━━━━━━━━━━━━━━━━━━━━━━━━━━━━━━━━━\u001b[0m \u001b[32m144.2/144.2 kB\u001b[0m \u001b[31m12.3 MB/s\u001b[0m eta \u001b[36m0:00:00\u001b[0m\n",
            "\u001b[?25hDownloading virtualenv-20.30.0-py3-none-any.whl (4.3 MB)\n",
            "\u001b[2K   \u001b[90m━━━━━━━━━━━━━━━━━━━━━━━━━━━━━━━━━━━━━━━━\u001b[0m \u001b[32m4.3/4.3 MB\u001b[0m \u001b[31m82.1 MB/s\u001b[0m eta \u001b[36m0:00:00\u001b[0m\n",
            "\u001b[?25hDownloading distlib-0.3.9-py2.py3-none-any.whl (468 kB)\n",
            "\u001b[2K   \u001b[90m━━━━━━━━━━━━━━━━━━━━━━━━━━━━━━━━━━━━━━━━\u001b[0m \u001b[32m469.0/469.0 kB\u001b[0m \u001b[31m31.1 MB/s\u001b[0m eta \u001b[36m0:00:00\u001b[0m\n",
            "\u001b[?25hDownloading orderedmultidict-1.0.1-py2.py3-none-any.whl (11 kB)\n",
            "Installing collected packages: distlib, virtualenv, urllib3, six, pyparsing, pyjwt, attrs, requests, python-dateutil, pathlib2, orderedmultidict, furl, clearml-agent, clearml\n",
            "  Attempting uninstall: urllib3\n",
            "    Found existing installation: urllib3 2.4.0\n",
            "    Uninstalling urllib3-2.4.0:\n",
            "      Successfully uninstalled urllib3-2.4.0\n",
            "  Attempting uninstall: six\n",
            "    Found existing installation: six 1.17.0\n",
            "    Uninstalling six-1.17.0:\n",
            "      Successfully uninstalled six-1.17.0\n",
            "  Attempting uninstall: pyparsing\n",
            "    Found existing installation: pyparsing 3.2.3\n",
            "    Uninstalling pyparsing-3.2.3:\n",
            "      Successfully uninstalled pyparsing-3.2.3\n",
            "  Attempting uninstall: pyjwt\n",
            "    Found existing installation: PyJWT 2.10.1\n",
            "    Uninstalling PyJWT-2.10.1:\n",
            "      Successfully uninstalled PyJWT-2.10.1\n",
            "  Attempting uninstall: attrs\n",
            "    Found existing installation: attrs 25.3.0\n",
            "    Uninstalling attrs-25.3.0:\n",
            "      Successfully uninstalled attrs-25.3.0\n",
            "  Attempting uninstall: requests\n",
            "    Found existing installation: requests 2.32.3\n",
            "    Uninstalling requests-2.32.3:\n",
            "      Successfully uninstalled requests-2.32.3\n",
            "  Attempting uninstall: python-dateutil\n",
            "    Found existing installation: python-dateutil 2.9.0.post0\n",
            "    Uninstalling python-dateutil-2.9.0.post0:\n",
            "      Successfully uninstalled python-dateutil-2.9.0.post0\n",
            "\u001b[31mERROR: pip's dependency resolver does not currently take into account all the packages that are installed. This behaviour is the source of the following dependency conflicts.\n",
            "google-colab 1.0.0 requires requests==2.32.3, but you have requests 2.31.0 which is incompatible.\u001b[0m\u001b[31m\n",
            "\u001b[0mSuccessfully installed attrs-23.2.0 clearml-1.18.0 clearml-agent-1.9.3 distlib-0.3.9 furl-2.1.4 orderedmultidict-1.0.1 pathlib2-2.3.7.post1 pyjwt-2.8.0 pyparsing-3.1.4 python-dateutil-2.8.2 requests-2.31.0 six-1.16.0 urllib3-1.26.20 virtualenv-20.30.0\n"
          ]
        },
        {
          "output_type": "display_data",
          "data": {
            "application/vnd.colab-display-data+json": {
              "pip_warning": {
                "packages": [
                  "dateutil",
                  "six"
                ]
              },
              "id": "581fa64012b344ab81df002ad1188527"
            }
          },
          "metadata": {}
        },
        {
          "output_type": "stream",
          "name": "stdout",
          "text": [
            "Requirement already satisfied: clearml>=1.10.0 in /usr/local/lib/python3.11/dist-packages (from -r requirements.txt (line 1)) (1.18.0)\n",
            "Traceback (most recent call last):\n",
            "  File \"/usr/local/lib/python3.11/dist-packages/pip/_internal/cli/base_command.py\", line 179, in exc_logging_wrapper\n",
            "    status = run_func(*args)\n",
            "             ^^^^^^^^^^^^^^^\n",
            "  File \"/usr/local/lib/python3.11/dist-packages/pip/_internal/cli/req_command.py\", line 67, in wrapper\n",
            "^C\n"
          ]
        }
      ],
      "source": [
        "# Install ClearML and dependencies\n",
        "!pip install clearml clearml-agent\n",
        "!pip install -r requirements.txt"
      ]
    },
    {
      "cell_type": "code",
      "execution_count": null,
      "metadata": {
        "colab": {
          "base_uri": "https://localhost:8080/"
        },
        "id": "5EnaPgAvI3rB",
        "outputId": "6602d84a-9319-4baf-ab77-bcb5f706b52d"
      },
      "outputs": [
        {
          "output_type": "stream",
          "name": "stdout",
          "text": [
            "Mounted at /content/drive\n"
          ]
        }
      ],
      "source": [
        "from google.colab import drive\n",
        "drive.mount('/content/drive')"
      ]
    },
    {
      "cell_type": "code",
      "execution_count": null,
      "metadata": {
        "colab": {
          "base_uri": "https://localhost:8080/"
        },
        "id": "p-TfecD8deGq",
        "outputId": "3d55e0c9-9d3b-4e2a-8469-adbaed86c383"
      },
      "outputs": [
        {
          "output_type": "stream",
          "name": "stdout",
          "text": [
            "ClearML SDK setup process\n",
            "\n",
            "Please create new clearml credentials through the settings page in your `clearml-server` web app (e.g. http://localhost:8080//settings/workspace-configuration) \n",
            "Or create a free account at https://app.clear.ml/settings/workspace-configuration\n",
            "\n",
            "In settings page, press \"Create new credentials\", then press \"Copy to clipboard\".\n",
            "\n",
            "Paste copied configuration here:\n",
            "\n",
            "Could not parse credentials, please try entering them manually.\n",
            "Enter user access key: MS76OJLEAWLZXRGGV04N7AYXH34ATB\n",
            "Enter user secret: S2J1CjhitU3JGp4X0MzxGjF55Ys-0XjX1X12Hq5_kbGfuUshGN-CiI0tuPy91CgTHVQ\n",
            "Detected credentials key=\"MS76OJLEAWLZXRGGV04N7AYXH34ATB\" secret=\"S2J1***\"\n",
            "\n",
            "Editing configuration file: /root/clearml.conf\n",
            "Enter the url of the clearml-server's Web service, for example: http://localhost:8080\n",
            "\n",
            "WEB Host configured to: https://app.clear.ml/\n",
            "\n",
            "ClearML Hosts configuration:\n",
            "Web App: https://app.clear.ml/\n",
            "API: https://api.clear.ml/\n",
            "File Store: https://files.clear.ml/\n",
            "\n",
            "Verifying credentials ...\n",
            "Credentials verified!\n",
            "\n",
            "New configuration stored in /root/clearml.conf\n",
            "ClearML setup completed successfully.\n"
          ]
        }
      ],
      "source": [
        "# Initialize ClearML configuration\n",
        "# You'll need to provide your ClearML credentials\n",
        "!clearml-init"
      ]
    },
    {
      "cell_type": "markdown",
      "metadata": {
        "id": "ufwPuq3TdeGq"
      },
      "source": [
        "## 2. Create Task Templates\n",
        "\n",
        "First, you need to create task templates by running each task script once with the `execute_remotely()` line commented out."
      ]
    },
    {
      "cell_type": "code",
      "execution_count": null,
      "metadata": {
        "colab": {
          "base_uri": "https://localhost:8080/"
        },
        "id": "mzBH40-RJSQ5",
        "outputId": "d706e8bc-064b-49ab-eb36-1923acbc3045"
      },
      "outputs": [
        {
          "name": "stdout",
          "output_type": "stream",
          "text": [
            "Traceback (most recent call last):\n",
            "  File \"/content/drive/MyDrive/AI Studio/BNM_pipeline_ArtifactUsed/step0_upload_dataset.py\", line 1, in <module>\n",
            "    from clearml import Dataset\n",
            "  File \"/usr/local/lib/python3.11/dist-packages/clearml/__init__.py\", line 5, in <module>\n",
            "    from .task import Task\n",
            "  File \"/usr/local/lib/python3.11/dist-packages/clearml/task.py\", line 65, in <module>\n",
            "    from .binding.frameworks.fastai_bind import PatchFastai\n",
            "  File \"/usr/local/lib/python3.11/dist-packages/clearml/binding/frameworks/fastai_bind.py\", line 180, in <module>\n",
            "    class PatchFastaiV2(object):\n",
            "  File \"/usr/local/lib/python3.11/dist-packages/clearml/binding/frameworks/fastai_bind.py\", line 205, in PatchFastaiV2\n",
            "    from fastai.learner import Recorder\n",
            "  File \"/usr/local/lib/python3.11/dist-packages/fastai/learner.py\", line 7, in <module>\n",
            "    from .data.all import *\n",
            "  File \"/usr/local/lib/python3.11/dist-packages/fastai/data/all.py\", line 1, in <module>\n",
            "    from ..torch_basics import *\n",
            "  File \"/usr/local/lib/python3.11/dist-packages/fastai/torch_basics.py\", line 1, in <module>\n",
            "    from torch import multiprocessing\n",
            "  File \"/usr/local/lib/python3.11/dist-packages/torch/__init__.py\", line 2151, in <module>\n",
            "    from torch import (\n",
            "  File \"/usr/local/lib/python3.11/dist-packages/torch/mtia/__init__.py\", line 317, in <module>\n",
            "    from .memory import *  # noqa: F403\n",
            "    ^^^^^^^^^^^^^^^^^^^^^\n",
            "  File \"/usr/local/lib/python3.11/dist-packages/torch/mtia/memory.py\", line 7, in <module>\n",
            "    import torch\n",
            "  File \"<frozen importlib._bootstrap>\", line 230, in _lock_unlock_module\n",
            "  File \"<frozen importlib._bootstrap>\", line 127, in release\n",
            "KeyboardInterrupt\n",
            "^C\n"
          ]
        }
      ],
      "source": [
        "# Run the dataset upload script\n",
        "!python step0_upload_dataset.py"
      ]
    },
    {
      "cell_type": "code",
      "execution_count": null,
      "metadata": {
        "colab": {
          "base_uri": "https://localhost:8080/"
        },
        "id": "KN1vNKFNdeGr",
        "outputId": "d3c1ee65-52be-413c-a8d7-05122dc994cd"
      },
      "outputs": [
        {
          "output_type": "stream",
          "name": "stdout",
          "text": [
            "ClearML Task: created new task id=087c773afc22438f845a21468e6f4194\n",
            "2025-05-02 07:10:08,618 - clearml.Task - INFO - No repository found, storing script code instead\n",
            "2025-05-02 07:10:11.629881: E external/local_xla/xla/stream_executor/cuda/cuda_fft.cc:477] Unable to register cuFFT factory: Attempting to register factory for plugin cuFFT when one has already been registered\n",
            "WARNING: All log messages before absl::InitializeLog() is called are written to STDERR\n",
            "E0000 00:00:1746169811.683437    2796 cuda_dnn.cc:8310] Unable to register cuDNN factory: Attempting to register factory for plugin cuDNN when one has already been registered\n",
            "E0000 00:00:1746169811.697628    2796 cuda_blas.cc:1418] Unable to register cuBLAS factory: Attempting to register factory for plugin cuBLAS when one has already been registered\n",
            "2025-05-02 07:10:11.770732: I tensorflow/core/platform/cpu_feature_guard.cc:210] This TensorFlow binary is optimized to use available CPU instructions in performance-critical operations.\n",
            "To enable the following instructions: AVX2 FMA, in other operations, rebuild TensorFlow with the appropriate compiler flags.\n",
            "ClearML results page: https://app.clear.ml/projects/660fd1543a414119abff50d412c7a5cd/experiments/087c773afc22438f845a21468e6f4194/output/log\n",
            "2025-05-02 07:10:16,624 - clearml.task - WARNING - Requirement ignored, Task.add_requirements() must be called before Task.init()\n",
            "2025-05-02 07:10:16,637 - clearml - INFO - Dataset.get() did not specify alias. Dataset information will not be automatically logged in ClearML Server.\n",
            "ClearML Monitor: GPU monitoring failed getting GPU reading, switching off GPU monitoring\n",
            "2025-05-02 07:10:19,959 - clearml.storage - INFO - Downloading: 205.61MB from https://files.clear.ml/BNM%20Pipeline/.datasets/Drowsiness%20Dataset/Drowsiness%20Dataset.b12af85ec2be46c4a55087ae18fc9357/artifacts/data/dataset.b12af85ec2be46c4a55087ae18fc9357.jbvwvhcy.zip\n",
            "████████████████████████████ 100% | 205.61/205.61 MB [00:01<00:00, 115.93MB/s]: \n",
            "2025-05-02 07:10:21,736 - clearml.storage - INFO - Downloaded 205.61 MB successfully from https://files.clear.ml/BNM%20Pipeline/.datasets/Drowsiness%20Dataset/Drowsiness%20Dataset.b12af85ec2be46c4a55087ae18fc9357/artifacts/data/dataset.b12af85ec2be46c4a55087ae18fc9357.jbvwvhcy.zip , saved to /root/.clearml/cache/storage_manager/datasets/7c30c8c0c72f0900ab1c6eaff071481b.dataset.b12af85ec2be46c4a55087ae18fc9357.jbvwvhcy.zip\n",
            "📁 Using dataset path: /root/.clearml/cache/storage_manager/datasets/ds_b12af85ec2be46c4a55087ae18fc9357/train\n",
            "📂 Folder structure:\n",
            "- train/\n",
            "    - yawn/\n",
            "    - Closed/\n",
            "    - no_yawn/\n",
            "    - Open/\n",
            "    - yawn/\n",
            "    - Closed/\n",
            "    - no_yawn/\n",
            "    - Open/\n",
            "ClearML Monitor: Could not detect iteration reporting, falling back to iterations as seconds-from-start\n",
            "✅ Preprocessing completed and uploaded to ClearML.\n",
            "2025-05-02 07:24:08,000 - clearml.storage - INFO - Uploading: 4461.71MB to /content/drive/MyDrive/AI Studio/BNM_pipeline_ArtifactUsed/processed_data.npz\n",
            "██████████████████████████▉ 100% | 4461.71/4461.71 MB [01:48<00:00, 41.12MB/s]: \n"
          ]
        }
      ],
      "source": [
        "# Run Step 1: Data Preprocessing to create task template\n",
        "!python smart_data_preprocessing_deep.py"
      ]
    },
    {
      "cell_type": "code",
      "execution_count": null,
      "metadata": {
        "colab": {
          "base_uri": "https://localhost:8080/"
        },
        "id": "cytHm5wAdeGr",
        "outputId": "3f65ff74-7047-42ab-eaa9-357b1a16f4cb"
      },
      "outputs": [
        {
          "output_type": "stream",
          "name": "stdout",
          "text": [
            "2025-05-02 07:26:16.507055: E external/local_xla/xla/stream_executor/cuda/cuda_fft.cc:477] Unable to register cuFFT factory: Attempting to register factory for plugin cuFFT when one has already been registered\n",
            "WARNING: All log messages before absl::InitializeLog() is called are written to STDERR\n",
            "E0000 00:00:1746170776.704156    6731 cuda_dnn.cc:8310] Unable to register cuDNN factory: Attempting to register factory for plugin cuDNN when one has already been registered\n",
            "E0000 00:00:1746170776.760434    6731 cuda_blas.cc:1418] Unable to register cuBLAS factory: Attempting to register factory for plugin cuBLAS when one has already been registered\n",
            "2025-05-02 07:26:17.192114: I tensorflow/core/platform/cpu_feature_guard.cc:210] This TensorFlow binary is optimized to use available CPU instructions in performance-critical operations.\n",
            "To enable the following instructions: AVX2 FMA, in other operations, rebuild TensorFlow with the appropriate compiler flags.\n",
            "ClearML Task: created new task id=3c7bc89dedd1492bbad95f5f4e69753c\n",
            "2025-05-02 07:26:24,298 - clearml.Task - INFO - No repository found, storing script code instead\n",
            "ClearML results page: https://app.clear.ml/projects/660fd1543a414119abff50d412c7a5cd/experiments/3c7bc89dedd1492bbad95f5f4e69753c/output/log\n",
            "2025-05-02 07:26:26,361 - clearml.task - WARNING - Requirement ignored, Task.add_requirements() must be called before Task.init()\n",
            "2025-05-02 07:26:26,836 - clearml.util - WARNING - 15 task found when searching for `{'project_name': 'BNM Pipeline', 'task_name': 'Step 1 - Smart Data Preprocessing (Deep Scan)', 'include_archived': True}`\n",
            "2025-05-02 07:26:26,837 - clearml.util - WARNING - Selected task `Step 1 - Smart Data Preprocessing (Deep Scan)` (id=087c773afc22438f845a21468e6f4194)\n",
            "ClearML Monitor: GPU monitoring failed getting GPU reading, switching off GPU monitoring\n",
            "2025-05-02 07:26:28,621 - clearml.storage - INFO - Downloading: 4461.71MB from https://files.clear.ml/BNM%20Pipeline/Step%201%20-%20Smart%20Data%20Preprocessing%20%28Deep%20Scan%29.087c773afc22438f845a21468e6f4194/artifacts/processed_data/processed_data.npz\n",
            "███████████████████████████ 100% | 4461.71/4461.71 MB [01:22<00:00, 53.79MB/s]: \n",
            "2025-05-02 07:27:51,576 - clearml.storage - INFO - Downloaded 4461.71 MB successfully from https://files.clear.ml/BNM%20Pipeline/Step%201%20-%20Smart%20Data%20Preprocessing%20%28Deep%20Scan%29.087c773afc22438f845a21468e6f4194/artifacts/processed_data/processed_data.npz , saved to /root/.clearml/cache/storage_manager/global/e380833f09196cb6b4ac029123badf0a.processed_data.npz\n",
            "Loading preprocessed data from: /root/.clearml/cache/storage_manager/global/e380833f09196cb6b4ac029123badf0a.processed_data.npz\n",
            "Loaded data shapes: X_train: (3108, 224, 224, 3), X_test: (777, 224, 224, 3)\n",
            "Label shapes: y_train: (3108,), y_test: (777,)\n",
            "2025-05-02 07:28:02.282164: E external/local_xla/xla/stream_executor/cuda/cuda_driver.cc:152] failed call to cuInit: INTERNAL: CUDA error: Failed call to cuInit: UNKNOWN ERROR (303)\n",
            "Downloading data from https://storage.googleapis.com/tensorflow/keras-applications/mobilenet_v2/mobilenet_v2_weights_tf_dim_ordering_tf_kernels_1.0_224_no_top.h5\n",
            "\u001b[1m9406464/9406464\u001b[0m \u001b[32m━━━━━━━━━━━━━━━━━━━━\u001b[0m\u001b[37m\u001b[0m \u001b[1m0s\u001b[0m 0us/step\n",
            "Extracting features from training data...\n",
            "Processing image 0/3108\n",
            "Processing image 100/3108\n",
            "Processing image 200/3108\n",
            "Processing image 300/3108\n",
            "Processing image 400/3108\n",
            "Processing image 500/3108\n",
            "ClearML Monitor: Could not detect iteration reporting, falling back to iterations as seconds-from-start\n",
            "Processing image 600/3108\n",
            "Processing image 700/3108\n",
            "Processing image 800/3108\n",
            "Processing image 900/3108\n",
            "Processing image 1000/3108\n",
            "Processing image 1100/3108\n",
            "Processing image 1200/3108\n",
            "Processing image 1300/3108\n",
            "Processing image 1400/3108\n",
            "Processing image 1500/3108\n",
            "Processing image 1600/3108\n",
            "Processing image 1700/3108\n",
            "Processing image 1800/3108\n",
            "Processing image 1900/3108\n",
            "Processing image 2000/3108\n",
            "Processing image 2100/3108\n",
            "Processing image 2200/3108\n",
            "Processing image 2300/3108\n",
            "Processing image 2400/3108\n",
            "Processing image 2500/3108\n",
            "Processing image 2600/3108\n",
            "Processing image 2700/3108\n",
            "Processing image 2800/3108\n",
            "Processing image 2900/3108\n",
            "Processing image 3000/3108\n",
            "Processing image 3100/3108\n",
            "Extracting features from test data...\n",
            "Processing image 0/777\n",
            "Processing image 100/777\n",
            "Processing image 200/777\n",
            "Processing image 300/777\n",
            "Processing image 400/777\n",
            "Processing image 500/777\n",
            "Processing image 600/777\n",
            "Processing image 700/777\n",
            "Feature shapes: X_train_feat: (3108, 1, 7, 7, 1280), X_test_feat: (777, 1, 7, 7, 1280)\n",
            "Feature extraction completed successfully!\n",
            "2025-05-02 07:38:16,024 - clearml.storage - INFO - Uploading: 162.56MB to /content/drive/MyDrive/AI Studio/BNM_pipeline_ArtifactUsed/features.npz\n",
            "████████████████████████████▉ 100% | 162.56/162.56 MB [00:02<00:00, 59.05MB/s]: \n"
          ]
        }
      ],
      "source": [
        "# Run Step 2: Feature Extraction to create task template\n",
        "!python feature_extraction.py"
      ]
    },
    {
      "cell_type": "code",
      "execution_count": null,
      "metadata": {
        "colab": {
          "base_uri": "https://localhost:8080/"
        },
        "id": "8DNqQuhudeGr",
        "outputId": "04435307-a861-493f-9394-84373715ac2f"
      },
      "outputs": [
        {
          "output_type": "stream",
          "name": "stdout",
          "text": [
            "2025-05-02 07:38:39.238706: E external/local_xla/xla/stream_executor/cuda/cuda_fft.cc:477] Unable to register cuFFT factory: Attempting to register factory for plugin cuFFT when one has already been registered\n",
            "WARNING: All log messages before absl::InitializeLog() is called are written to STDERR\n",
            "E0000 00:00:1746171519.265981   40857 cuda_dnn.cc:8310] Unable to register cuDNN factory: Attempting to register factory for plugin cuDNN when one has already been registered\n",
            "E0000 00:00:1746171519.274487   40857 cuda_blas.cc:1418] Unable to register cuBLAS factory: Attempting to register factory for plugin cuBLAS when one has already been registered\n",
            "2025-05-02 07:38:39.304647: I tensorflow/core/platform/cpu_feature_guard.cc:210] This TensorFlow binary is optimized to use available CPU instructions in performance-critical operations.\n",
            "To enable the following instructions: AVX2 FMA, in other operations, rebuild TensorFlow with the appropriate compiler flags.\n",
            "ClearML Task: created new task id=202e61e63fe942839541ac51ee47587f\n",
            "2025-05-02 07:38:45,627 - clearml.Task - INFO - No repository found, storing script code instead\n",
            "ClearML results page: https://app.clear.ml/projects/660fd1543a414119abff50d412c7a5cd/experiments/202e61e63fe942839541ac51ee47587f/output/log\n",
            "2025-05-02 07:38:48,161 - clearml.task - WARNING - Requirement ignored, Task.add_requirements() must be called before Task.init()\n",
            "2025-05-02 07:38:48,608 - clearml.util - WARNING - 13 task found when searching for `{'project_name': 'BNM Pipeline', 'task_name': 'Step 2 - Feature Extraction', 'include_archived': True}`\n",
            "2025-05-02 07:38:48,609 - clearml.util - WARNING - Selected task `Step 2 - Feature Extraction` (id=3c7bc89dedd1492bbad95f5f4e69753c)\n",
            "ClearML Monitor: GPU monitoring failed getting GPU reading, switching off GPU monitoring\n",
            "2025-05-02 07:38:49,315 - clearml.storage - INFO - Downloading: 162.56MB from https://files.clear.ml/BNM%20Pipeline/Step%202%20-%20Feature%20Extraction.3c7bc89dedd1492bbad95f5f4e69753c/artifacts/features/features.npz\n",
            "████████████████████████████ 100% | 162.56/162.56 MB [00:01<00:00, 156.51MB/s]: \n",
            "2025-05-02 07:38:50,357 - clearml.storage - INFO - Downloaded 162.56 MB successfully from https://files.clear.ml/BNM%20Pipeline/Step%202%20-%20Feature%20Extraction.3c7bc89dedd1492bbad95f5f4e69753c/artifacts/features/features.npz , saved to /root/.clearml/cache/storage_manager/global/02c142209e26003e2926a90ac5583f61.features.npz\n",
            "2025-05-02 07:38:50,713 - clearml.util - WARNING - 15 task found when searching for `{'project_name': 'BNM Pipeline', 'task_name': 'Step 1 - Smart Data Preprocessing (Deep Scan)', 'include_archived': True}`\n",
            "2025-05-02 07:38:50,714 - clearml.util - WARNING - Selected task `Step 1 - Smart Data Preprocessing (Deep Scan)` (id=087c773afc22438f845a21468e6f4194)\n",
            "Loading features from: /root/.clearml/cache/storage_manager/global/02c142209e26003e2926a90ac5583f61.features.npz\n",
            "Loading labels from: /root/.clearml/cache/storage_manager/global/e380833f09196cb6b4ac029123badf0a.processed_data.npz\n",
            "Feature shapes: X_train_feat: (3108, 1, 7, 7, 1280), X_test_feat: (777, 1, 7, 7, 1280)\n",
            "Label shapes: y_train: (3108,), y_test: (777,)\n",
            "Reshaped features: X_train_feat: (3108, 62720), X_test_feat: (777, 62720)\n",
            "Eye detection dataset: 1554 training samples, 388 testing samples\n",
            "Yawn detection dataset: 1554 training samples, 389 testing samples\n",
            "/usr/local/lib/python3.11/dist-packages/keras/src/layers/core/dense.py:87: UserWarning:\n",
            "\n",
            "Do not pass an `input_shape`/`input_dim` argument to a layer. When using Sequential models, prefer using an `Input(shape)` object as the first layer in the model instead.\n",
            "\n",
            "2025-05-02 07:39:20.797494: E external/local_xla/xla/stream_executor/cuda/cuda_driver.cc:152] failed call to cuInit: INTERNAL: CUDA error: Failed call to cuInit: UNKNOWN ERROR (303)\n",
            "2025-05-02 07:39:20.886662: W external/local_xla/xla/tsl/framework/cpu_allocator_impl.cc:83] Allocation of 128450560 exceeds 10% of free system memory.\n",
            "2025-05-02 07:39:21.093343: W external/local_xla/xla/tsl/framework/cpu_allocator_impl.cc:83] Allocation of 128450560 exceeds 10% of free system memory.\n",
            "2025-05-02 07:39:21.162342: W external/local_xla/xla/tsl/framework/cpu_allocator_impl.cc:83] Allocation of 128450560 exceeds 10% of free system memory.\n",
            "Training eye detection model...\n",
            "2025-05-02 07:39:21.764852: W external/local_xla/xla/tsl/framework/cpu_allocator_impl.cc:83] Allocation of 389867520 exceeds 10% of free system memory.\n",
            "Epoch 1/10\n",
            "2025-05-02 07:39:23.291898: W external/local_xla/xla/tsl/framework/cpu_allocator_impl.cc:83] Allocation of 128450560 exceeds 10% of free system memory.\n",
            "\u001b[1m49/49\u001b[0m \u001b[32m━━━━━━━━━━━━━━━━━━━━\u001b[0m\u001b[37m\u001b[0m \u001b[1m34s\u001b[0m 656ms/step - accuracy: 0.6200 - loss: 0.8437 - val_accuracy: 0.3170 - val_loss: 20.3499\n",
            "Epoch 2/10\n",
            "\u001b[1m49/49\u001b[0m \u001b[32m━━━━━━━━━━━━━━━━━━━━\u001b[0m\u001b[37m\u001b[0m \u001b[1m31s\u001b[0m 619ms/step - accuracy: 0.7177 - loss: 0.6269 - val_accuracy: 0.3170 - val_loss: 7.9783\n",
            "Epoch 3/10\n",
            "\u001b[1m49/49\u001b[0m \u001b[32m━━━━━━━━━━━━━━━━━━━━\u001b[0m\u001b[37m\u001b[0m \u001b[1m41s\u001b[0m 631ms/step - accuracy: 0.7661 - loss: 0.5086 - val_accuracy: 0.3170 - val_loss: 9.3932\n",
            "Epoch 4/10\n",
            "\u001b[1m49/49\u001b[0m \u001b[32m━━━━━━━━━━━━━━━━━━━━\u001b[0m\u001b[37m\u001b[0m \u001b[1m30s\u001b[0m 622ms/step - accuracy: 0.7697 - loss: 0.4735 - val_accuracy: 0.3479 - val_loss: 2.4172\n",
            "Epoch 5/10\n",
            "\u001b[1m19/49\u001b[0m \u001b[32m━━━━━━━\u001b[0m\u001b[37m━━━━━━━━━━━━━\u001b[0m \u001b[1m17s\u001b[0m 583ms/step - accuracy: 0.7961 - loss: 0.4256ClearML Monitor: Could not detect iteration reporting, falling back to iterations as seconds-from-start\n",
            "\u001b[1m49/49\u001b[0m \u001b[32m━━━━━━━━━━━━━━━━━━━━\u001b[0m\u001b[37m\u001b[0m \u001b[1m30s\u001b[0m 620ms/step - accuracy: 0.7985 - loss: 0.4334 - val_accuracy: 0.3170 - val_loss: 4.3382\n",
            "Epoch 6/10\n",
            "\u001b[1m49/49\u001b[0m \u001b[32m━━━━━━━━━━━━━━━━━━━━\u001b[0m\u001b[37m\u001b[0m \u001b[1m41s\u001b[0m 611ms/step - accuracy: 0.8342 - loss: 0.4072 - val_accuracy: 0.3737 - val_loss: 1.7438\n",
            "Epoch 7/10\n",
            "\u001b[1m49/49\u001b[0m \u001b[32m━━━━━━━━━━━━━━━━━━━━\u001b[0m\u001b[37m\u001b[0m \u001b[1m41s\u001b[0m 617ms/step - accuracy: 0.8027 - loss: 0.3918 - val_accuracy: 0.8428 - val_loss: 0.3745\n",
            "Epoch 8/10\n",
            "\u001b[1m49/49\u001b[0m \u001b[32m━━━━━━━━━━━━━━━━━━━━\u001b[0m\u001b[37m\u001b[0m \u001b[1m41s\u001b[0m 614ms/step - accuracy: 0.8275 - loss: 0.3638 - val_accuracy: 0.7758 - val_loss: 0.5125\n",
            "Epoch 9/10\n",
            "\u001b[1m49/49\u001b[0m \u001b[32m━━━━━━━━━━━━━━━━━━━━\u001b[0m\u001b[37m\u001b[0m \u001b[1m42s\u001b[0m 645ms/step - accuracy: 0.8248 - loss: 0.3698 - val_accuracy: 0.7397 - val_loss: 0.9326\n",
            "Epoch 10/10\n",
            "\u001b[1m49/49\u001b[0m \u001b[32m━━━━━━━━━━━━━━━━━━━━\u001b[0m\u001b[37m\u001b[0m \u001b[1m40s\u001b[0m 619ms/step - accuracy: 0.8333 - loss: 0.3584 - val_accuracy: 0.7371 - val_loss: 1.0113\n",
            "Training yawn detection model...\n",
            "Epoch 1/10\n",
            "\u001b[1m49/49\u001b[0m \u001b[32m━━━━━━━━━━━━━━━━━━━━\u001b[0m\u001b[37m\u001b[0m \u001b[1m33s\u001b[0m 634ms/step - accuracy: 0.6241 - loss: 0.8411 - val_accuracy: 0.6504 - val_loss: 8.9293\n",
            "Epoch 2/10\n",
            "\u001b[1m49/49\u001b[0m \u001b[32m━━━━━━━━━━━━━━━━━━━━\u001b[0m\u001b[37m\u001b[0m \u001b[1m35s\u001b[0m 710ms/step - accuracy: 0.7159 - loss: 0.6687 - val_accuracy: 0.4473 - val_loss: 0.9610\n",
            "Epoch 3/10\n",
            "\u001b[1m49/49\u001b[0m \u001b[32m━━━━━━━━━━━━━━━━━━━━\u001b[0m\u001b[37m\u001b[0m \u001b[1m37s\u001b[0m 621ms/step - accuracy: 0.7844 - loss: 0.4831 - val_accuracy: 0.4987 - val_loss: 1.8932\n",
            "Epoch 4/10\n",
            "\u001b[1m49/49\u001b[0m \u001b[32m━━━━━━━━━━━━━━━━━━━━\u001b[0m\u001b[37m\u001b[0m \u001b[1m41s\u001b[0m 613ms/step - accuracy: 0.7836 - loss: 0.5131 - val_accuracy: 0.6992 - val_loss: 1.9523\n",
            "Epoch 5/10\n",
            "\u001b[1m49/49\u001b[0m \u001b[32m━━━━━━━━━━━━━━━━━━━━\u001b[0m\u001b[37m\u001b[0m \u001b[1m42s\u001b[0m 625ms/step - accuracy: 0.7884 - loss: 0.4787 - val_accuracy: 0.7018 - val_loss: 0.5341\n",
            "Epoch 6/10\n",
            "\u001b[1m49/49\u001b[0m \u001b[32m━━━━━━━━━━━━━━━━━━━━\u001b[0m\u001b[37m\u001b[0m \u001b[1m40s\u001b[0m 605ms/step - accuracy: 0.7887 - loss: 0.4932 - val_accuracy: 0.7044 - val_loss: 1.7328\n",
            "Epoch 7/10\n",
            "\u001b[1m49/49\u001b[0m \u001b[32m━━━━━━━━━━━━━━━━━━━━\u001b[0m\u001b[37m\u001b[0m \u001b[1m30s\u001b[0m 621ms/step - accuracy: 0.8094 - loss: 0.4247 - val_accuracy: 0.6838 - val_loss: 1.1881\n",
            "Epoch 8/10\n",
            "\u001b[1m49/49\u001b[0m \u001b[32m━━━━━━━━━━━━━━━━━━━━\u001b[0m\u001b[37m\u001b[0m \u001b[1m41s\u001b[0m 616ms/step - accuracy: 0.8320 - loss: 0.3827 - val_accuracy: 0.3496 - val_loss: 7.6383\n",
            "Epoch 9/10\n",
            "\u001b[1m49/49\u001b[0m \u001b[32m━━━━━━━━━━━━━━━━━━━━\u001b[0m\u001b[37m\u001b[0m \u001b[1m40s\u001b[0m 606ms/step - accuracy: 0.8014 - loss: 0.4477 - val_accuracy: 0.3805 - val_loss: 2.2086\n",
            "Epoch 10/10\n",
            "\u001b[1m49/49\u001b[0m \u001b[32m━━━━━━━━━━━━━━━━━━━━\u001b[0m\u001b[37m\u001b[0m \u001b[1m41s\u001b[0m 611ms/step - accuracy: 0.8230 - loss: 0.3934 - val_accuracy: 0.5887 - val_loss: 0.7817\n",
            "WARNING:absl:You are saving your model as an HDF5 file via `model.save()` or `keras.saving.save_model(model)`. This file format is considered legacy. We recommend using instead the native Keras format, e.g. `model.save('my_model.keras')` or `keras.saving.save_model(model, 'my_model.keras')`. \n",
            "2025-05-02 07:52:31,560 - clearml.storage - INFO - Uploading: 0.00MB to /content/drive/MyDrive/AI Studio/BNM_pipeline_ArtifactUsed/yawn_history.json\n",
            "                                             0% | 0.00/0.0 MB [00:00<?, ?MB/s]: 2025-05-02 07:52:31,564 - clearml.storage - INFO - Uploading: 0.00MB / 0.00MB @ 0.00MBs to /content/drive/MyDrive/AI Studio/BNM_pipeline_ArtifactUsed/yawn_history.json\n",
            "2025-05-02 07:52:31,567 - clearml.storage - INFO - Uploading: 0.00MB / 0.00MB @ 0.00MBs to /content/drive/MyDrive/AI Studio/BNM_pipeline_ArtifactUsed/yawn_history.json\n",
            "                                             0% | 0.00/0.0 MB [00:00<?, ?MB/s]: \n",
            "2025-05-02 07:52:43,962 - clearml.frameworks - INFO - Found existing registered model id=604fc334b0ec4076b3c298ac638e9508 [/content/drive/MyDrive/AI Studio/BNM_pipeline_ArtifactUsed/eye_feature_best.h5] reusing it.\n",
            "WARNING:absl:You are saving your model as an HDF5 file via `model.save()` or `keras.saving.save_model(model)`. This file format is considered legacy. We recommend using instead the native Keras format, e.g. `model.save('my_model.keras')` or `keras.saving.save_model(model, 'my_model.keras')`. \n",
            "2025-05-02 07:53:09,099 - clearml.frameworks - INFO - Found existing registered model id=f45b9ce57867463082fed578196600eb [/content/drive/MyDrive/AI Studio/BNM_pipeline_ArtifactUsed/yawn_feature_best.h5] reusing it.\n",
            "\n",
            "Eye Detection Model Evaluation:\n",
            "\u001b[1m13/13\u001b[0m \u001b[32m━━━━━━━━━━━━━━━━━━━━\u001b[0m\u001b[37m\u001b[0m \u001b[1m1s\u001b[0m 57ms/step - accuracy: 0.7180 - loss: 1.0389\n",
            "Test Loss: 1.0113\n",
            "Test Accuracy: 0.7371\n",
            "\n",
            "Yawn Detection Model Evaluation:\n",
            "\u001b[1m 2/13\u001b[0m \u001b[32m━━━\u001b[0m\u001b[37m━━━━━━━━━━━━━━━━━\u001b[0m \u001b[1m1s\u001b[0m 133ms/step - accuracy: 0.5078 - loss: 0.94022025-05-02 07:53:17,942 - clearml.storage - INFO - Uploading: 370.59MB to /content/drive/MyDrive/AI Studio/BNM_pipeline_ArtifactUsed/yawn_feature_best.h5\n",
            "\u001b[1m13/13\u001b[0m \u001b[32m━━━━━━━━━━━━━━━━━━━━\u001b[0m\u001b[37m\u001b[0m \u001b[1m2s\u001b[0m 192ms/step - accuracy: 0.5649 - loss: 0.8333\n",
            "Test Loss: 0.7817\n",
            "Test Accuracy: 0.5887\n",
            "2025-05-02 07:53:27,744 - clearml.storage - INFO - Uploading: 370.59MB to /content/drive/MyDrive/AI Studio/BNM_pipeline_ArtifactUsed/eye_feature_best.h5\n",
            "\n",
            "█                                4% | 13.88/370.59 MB [00:10<04:07,  1.44MB/s]: \n",
            "█▉                               6% | 23.88/370.59 MB [00:11<01:39,  3.47MB/s]: \n",
            "█▏                               4% | 14.26/370.59 MB [00:01<00:33, 10.54MB/s]: \u001b[A\n",
            "██▎                              8% | 28.88/370.59 MB [00:11<01:09,  4.90MB/s]: \n",
            "██▋                              9% | 33.88/370.59 MB [00:11<00:50,  6.68MB/s]: \n",
            "███▏                            10% | 38.88/370.59 MB [00:11<00:37,  8.82MB/s]: \n",
            "███▌                            12% | 43.88/370.59 MB [00:11<00:28, 11.30MB/s]: \n",
            "███▉                            13% | 48.88/370.59 MB [00:12<00:22, 14.10MB/s]: \n",
            "████▎                           15% | 53.88/370.59 MB [00:12<00:18, 16.72MB/s]: \n",
            "████▊                           16% | 58.88/370.59 MB [00:12<00:15, 19.83MB/s]: \n",
            "█████▏                          17% | 63.88/370.59 MB [00:12<00:14, 21.83MB/s]: \n",
            "█████▌                          19% | 68.88/370.59 MB [00:12<00:13, 22.74MB/s]: \n",
            "█████▉                          20% | 73.88/370.59 MB [00:13<00:12, 22.98MB/s]: \n",
            "██████▍                         21% | 78.88/370.59 MB [00:13<00:12, 24.23MB/s]: \n",
            "██████▊                         23% | 83.88/370.59 MB [00:13<00:11, 24.37MB/s]: \n",
            "███████▏                        24% | 88.88/370.59 MB [00:13<00:10, 25.65MB/s]: \n",
            "███████▌                        25% | 93.88/370.59 MB [00:13<00:10, 27.31MB/s]: \n",
            "████████                        27% | 98.88/370.59 MB [00:13<00:10, 25.94MB/s]: \n",
            "████████▏                      28% | 103.88/370.59 MB [00:14<00:10, 25.65MB/s]: \n",
            "████████▌                      29% | 108.88/370.59 MB [00:14<00:09, 27.33MB/s]: \n",
            "████████▉                      31% | 113.88/370.59 MB [00:14<00:09, 27.77MB/s]: \n",
            "█████████▎                     32% | 118.88/370.59 MB [00:14<00:08, 29.62MB/s]: \n",
            "█████████▋                     33% | 123.88/370.59 MB [00:14<00:07, 31.34MB/s]: \n",
            "██████████                     35% | 128.88/370.59 MB [00:14<00:07, 30.98MB/s]: \n",
            "██████████▍                    36% | 133.88/370.59 MB [00:15<00:07, 31.99MB/s]: \n",
            "██████████                     35% | 129.26/370.59 MB [00:05<00:07, 32.01MB/s]: \u001b[A\n",
            "██████████▊                    37% | 138.88/370.59 MB [00:15<00:08, 28.70MB/s]: \n",
            "███████████▎                   39% | 143.88/370.59 MB [00:15<00:07, 29.93MB/s]: \n",
            "███████████▋                   40% | 148.88/370.59 MB [00:15<00:09, 24.00MB/s]: \n",
            "████████████                   42% | 153.88/370.59 MB [00:15<00:08, 24.31MB/s]: \n",
            "████████████▊                  44% | 163.88/370.59 MB [00:16<00:07, 27.10MB/s]: \n",
            "█████████████▏                 46% | 168.88/370.59 MB [00:16<00:07, 27.87MB/s]: \n",
            "█████████████▌                 47% | 173.88/370.59 MB [00:16<00:07, 27.47MB/s]: \n",
            "█████████████▉                 48% | 178.88/370.59 MB [00:16<00:07, 27.07MB/s]: \n",
            "██████████████▍                50% | 183.88/370.59 MB [00:17<00:06, 27.36MB/s]: \n",
            "██████████████▊                51% | 188.88/370.59 MB [00:17<00:06, 26.10MB/s]: \n",
            "███████████████▏               52% | 193.88/370.59 MB [00:17<00:06, 25.65MB/s]: \n",
            "███████████████▌               54% | 198.88/370.59 MB [00:17<00:06, 26.36MB/s]: \n",
            "███████████████▉               55% | 203.88/370.59 MB [00:17<00:06, 27.36MB/s]: \n",
            "████████████████▎              56% | 208.88/370.59 MB [00:17<00:05, 27.13MB/s]: \n",
            "████████████████▋              58% | 213.88/370.59 MB [00:18<00:06, 24.22MB/s]: \n",
            "█████████████████▏             59% | 218.88/370.59 MB [00:18<00:07, 21.56MB/s]: \n",
            "█████████████████▌             60% | 223.88/370.59 MB [00:18<00:06, 21.21MB/s]: \n",
            "█████████████████▉             62% | 228.88/370.59 MB [00:18<00:06, 21.66MB/s]: \n",
            "█████████████████▌             61% | 224.26/370.59 MB [00:09<00:06, 21.76MB/s]: \u001b[A\n",
            "██████████████████▎            63% | 233.88/370.59 MB [00:19<00:06, 22.05MB/s]: \n",
            "██████████████████▋            64% | 238.88/370.59 MB [00:19<00:05, 23.02MB/s]: \n",
            "███████████████████            66% | 243.88/370.59 MB [00:19<00:05, 23.84MB/s]: \n",
            "███████████████████▍           67% | 248.88/370.59 MB [00:19<00:04, 24.46MB/s]: \n",
            "███████████████████▊           69% | 253.88/370.59 MB [00:19<00:04, 25.76MB/s]: \n",
            "████████████████████▎          70% | 258.88/370.59 MB [00:20<00:04, 26.72MB/s]: \n",
            "████████████████████▋          71% | 263.88/370.59 MB [00:20<00:03, 28.21MB/s]: \n",
            "█████████████████████          73% | 268.88/370.59 MB [00:20<00:03, 28.65MB/s]: \n",
            "█████████████████████▍         74% | 273.88/370.59 MB [00:20<00:03, 28.51MB/s]: \n",
            "█████████████████████▊         75% | 278.88/370.59 MB [00:20<00:03, 29.16MB/s]: \n",
            "██████████████████████▏        77% | 283.88/370.59 MB [00:20<00:02, 29.22MB/s]: \n",
            "██████████████████████▌        78% | 288.88/370.59 MB [00:21<00:02, 27.56MB/s]: \n",
            "██████████████████████▉        79% | 293.88/370.59 MB [00:21<00:02, 29.07MB/s]: \n",
            "███████████████████████▍       81% | 298.88/370.59 MB [00:21<00:02, 29.83MB/s]: \n",
            "███████████████████████▊       82% | 303.88/370.59 MB [00:21<00:02, 29.96MB/s]: \n",
            "████████████████████████▏      83% | 308.88/370.59 MB [00:21<00:02, 30.83MB/s]: \n",
            "████████████████████████▌      85% | 313.88/370.59 MB [00:21<00:01, 30.28MB/s]: \n",
            "█████████████████████████▎     87% | 323.88/370.59 MB [00:22<00:01, 32.32MB/s]: \n",
            "█████████████████████████▋     89% | 328.88/370.59 MB [00:22<00:01, 32.13MB/s]: \n",
            "██████████████████████████▏    90% | 333.88/370.59 MB [00:22<00:01, 31.23MB/s]: \n",
            "██████████████████████████▌    91% | 338.88/370.59 MB [00:22<00:01, 31.69MB/s]: \n",
            "██████████████████████████▉    93% | 343.88/370.59 MB [00:22<00:00, 31.20MB/s]: \n",
            "███████████████████████████▎   94% | 348.88/370.59 MB [00:23<00:00, 30.77MB/s]: \n",
            "███████████████████████████▋   95% | 353.88/370.59 MB [00:23<00:00, 31.53MB/s]: \n",
            "████████████████████████████   97% | 358.88/370.59 MB [00:23<00:00, 31.00MB/s]: \n",
            "████████████████████████████▍  98% | 363.88/370.59 MB [00:23<00:00, 30.35MB/s]: \n",
            "████████████████████████████▊ 100% | 368.88/370.59 MB [00:23<00:00, 30.22MB/s]: \n",
            "████████████████████████████▉ 100% | 370.59/370.59 MB [00:30<00:00, 12.27MB/s]: \n",
            "████████████████████████████▉ 100% | 370.59/370.59 MB [00:20<00:00, 17.98MB/s]: \n"
          ]
        }
      ],
      "source": [
        "# Run Step 3: Model Training to create task template\n",
        "!python model_training.py"
      ]
    },
    {
      "cell_type": "markdown",
      "metadata": {
        "id": "shXHxMc2deGr"
      },
      "source": [
        "## 3. Start ClearML Agent\n",
        "\n",
        "Start the ClearML agent to listen to the \"BNM01\" queue."
      ]
    },
    {
      "cell_type": "code",
      "execution_count": null,
      "metadata": {
        "id": "EEFNbuy8deGr"
      },
      "outputs": [],
      "source": [
        "# In a separate cell or terminal\n",
        "!nohup python start_agent.py > agent_log.txt 2>&1 &"
      ]
    },
    {
      "cell_type": "markdown",
      "metadata": {
        "id": "1SnFXFnCdeGr"
      },
      "source": [
        "## 4. Run the Pipeline\n",
        "\n",
        "Now run the pipeline controller."
      ]
    },
    {
      "cell_type": "code",
      "execution_count": null,
      "metadata": {
        "colab": {
          "base_uri": "https://localhost:8080/"
        },
        "id": "cQaQ6fbsdeGs",
        "outputId": "8d3ed9d0-933d-41a1-b97d-a13699f14778"
      },
      "outputs": [
        {
          "output_type": "stream",
          "name": "stdout",
          "text": [
            "ClearML Task: created new task id=2ab4ad510f224857a752a9d57cda3412\n",
            "2025-05-02 08:05:14,107 - clearml.Task - INFO - No repository found, storing script code instead\n",
            "2025-05-02 08:05:15.579737: E external/local_xla/xla/stream_executor/cuda/cuda_fft.cc:477] Unable to register cuFFT factory: Attempting to register factory for plugin cuFFT when one has already been registered\n",
            "WARNING: All log messages before absl::InitializeLog() is called are written to STDERR\n",
            "E0000 00:00:1746173115.644731   47641 cuda_dnn.cc:8310] Unable to register cuDNN factory: Attempting to register factory for plugin cuDNN when one has already been registered\n",
            "E0000 00:00:1746173115.664709   47641 cuda_blas.cc:1418] Unable to register cuBLAS factory: Attempting to register factory for plugin cuBLAS when one has already been registered\n",
            "2025-05-02 08:05:15.738219: I tensorflow/core/platform/cpu_feature_guard.cc:210] This TensorFlow binary is optimized to use available CPU instructions in performance-critical operations.\n",
            "To enable the following instructions: AVX2 FMA, in other operations, rebuild TensorFlow with the appropriate compiler flags.\n",
            "ClearML results page: https://app.clear.ml/projects/6ecce031970842e2897fb6d4ca55f506/experiments/2ab4ad510f224857a752a9d57cda3412/output/log\n",
            "ClearML pipeline page: https://app.clear.ml/pipelines/6ecce031970842e2897fb6d4ca55f506/experiments/2ab4ad510f224857a752a9d57cda3412\n",
            "2025-05-02 08:05:24,723 - clearml.util - WARNING - 15 task found when searching for `{'project_name': 'BNM Pipeline', 'task_name': 'Step 1 - Smart Data Preprocessing (Deep Scan)', 'include_archived': True, 'task_filter': {'status': ['created', 'queued', 'in_progress', 'published', 'stopped', 'completed', 'closed']}}`\n",
            "2025-05-02 08:05:24,724 - clearml.util - WARNING - Selected task `Step 1 - Smart Data Preprocessing (Deep Scan)` (id=087c773afc22438f845a21468e6f4194)\n",
            "2025-05-02 08:05:25,238 - clearml.util - WARNING - 12 task found when searching for `{'project_name': 'BNM Pipeline', 'task_name': 'Step 2 - Feature Extraction', 'include_archived': True, 'task_filter': {'status': ['created', 'queued', 'in_progress', 'published', 'stopped', 'completed', 'closed']}}`\n",
            "2025-05-02 08:05:25,239 - clearml.util - WARNING - Selected task `Step 2 - Feature Extraction` (id=3c7bc89dedd1492bbad95f5f4e69753c)\n",
            "2025-05-02 08:05:25,770 - clearml.util - WARNING - 6 task found when searching for `{'project_name': 'BNM Pipeline', 'task_name': 'Step 3 - Model Training (Eye and Yawn)', 'include_archived': True, 'task_filter': {'status': ['created', 'queued', 'in_progress', 'published', 'stopped', 'completed', 'closed']}}`\n",
            "2025-05-02 08:05:25,770 - clearml.util - WARNING - Selected task `Step 3 - Model Training (Eye and Yawn)` (id=202e61e63fe942839541ac51ee47587f)\n",
            "Launching the next 1 steps\n",
            "Launching step [DataPreprocessing]\n",
            "Launching step: DataPreprocessing\n",
            "Parameters:\n",
            "None\n",
            "Configurations:\n",
            "{}\n",
            "Overrides:\n",
            "{}\n",
            "Launching the next 1 steps\n",
            "Launching step [FeatureExtraction]\n",
            "Launching step: FeatureExtraction\n",
            "Parameters:\n",
            "None\n",
            "Configurations:\n",
            "{}\n",
            "Overrides:\n",
            "{}\n",
            "Launching the next 1 steps\n",
            "Launching step [ModelTraining]\n",
            "Launching step: ModelTraining\n",
            "Parameters:\n",
            "None\n",
            "Configurations:\n",
            "{}\n",
            "Overrides:\n",
            "{}\n",
            "Launching the next 0 steps\n"
          ]
        }
      ],
      "source": [
        "# Run the pipeline\n",
        "!python bnm_pipeline_controller.py"
      ]
    },
    {
      "cell_type": "code",
      "execution_count": null,
      "metadata": {
        "colab": {
          "base_uri": "https://localhost:8080/"
        },
        "id": "ISVPF1ZUWlI5",
        "outputId": "4d70a64d-f83c-4bbe-d699-488a03d40d10"
      },
      "outputs": [
        {
          "output_type": "stream",
          "name": "stdout",
          "text": [
            "2025-05-02 09:12:23.646122: E external/local_xla/xla/stream_executor/cuda/cuda_fft.cc:477] Unable to register cuFFT factory: Attempting to register factory for plugin cuFFT when one has already been registered\n",
            "WARNING: All log messages before absl::InitializeLog() is called are written to STDERR\n",
            "E0000 00:00:1746177143.712498   64162 cuda_dnn.cc:8310] Unable to register cuDNN factory: Attempting to register factory for plugin cuDNN when one has already been registered\n",
            "E0000 00:00:1746177143.729197   64162 cuda_blas.cc:1418] Unable to register cuBLAS factory: Attempting to register factory for plugin cuBLAS when one has already been registered\n",
            "2025-05-02 09:12:23.782507: I tensorflow/core/platform/cpu_feature_guard.cc:210] This TensorFlow binary is optimized to use available CPU instructions in performance-critical operations.\n",
            "To enable the following instructions: AVX2 FMA, in other operations, rebuild TensorFlow with the appropriate compiler flags.\n",
            "ClearML Task: overwriting (reusing) task id=a50a3a36e16a4488a828d6d096a07f22\n",
            "2025-05-02 09:12:30,927 - clearml.Task - INFO - No repository found, storing script code instead\n",
            "ClearML results page: https://app.clear.ml/projects/660fd1543a414119abff50d412c7a5cd/experiments/a50a3a36e16a4488a828d6d096a07f22/output/log\n",
            "2025-05-02 09:12:33,310 - clearml.util - WARNING - 15 task found when searching for `{'project_name': 'BNM Pipeline', 'task_name': 'Step 1 - Smart Data Preprocessing (Deep Scan)', 'include_archived': True}`\n",
            "2025-05-02 09:12:33,313 - clearml.util - WARNING - Selected task `Step 1 - Smart Data Preprocessing (Deep Scan)` (id=087c773afc22438f845a21468e6f4194)\n",
            "2025-05-02 09:12:33,873 - clearml.util - WARNING - 13 task found when searching for `{'project_name': 'BNM Pipeline', 'task_name': 'Step 2 - Feature Extraction', 'include_archived': True}`\n",
            "2025-05-02 09:12:33,874 - clearml.util - WARNING - Selected task `Step 2 - Feature Extraction` (id=3c7bc89dedd1492bbad95f5f4e69753c)\n",
            "2025-05-02 09:12:34,395 - clearml.util - WARNING - 7 task found when searching for `{'project_name': 'BNM Pipeline', 'task_name': 'Step 3 - Model Training (Eye and Yawn)', 'include_archived': True}`\n",
            "2025-05-02 09:12:34,395 - clearml.util - WARNING - Selected task `Step 3 - Model Training (Eye and Yawn)` (id=202e61e63fe942839541ac51ee47587f)\n",
            "ClearML Monitor: GPU monitoring failed getting GPU reading, switching off GPU monitoring\n",
            "2025-05-02 09:12:35.660426: E external/local_xla/xla/stream_executor/cuda/cuda_driver.cc:152] failed call to cuInit: INTERNAL: CUDA error: Failed call to cuInit: UNKNOWN ERROR (303)\n",
            "WARNING:absl:Compiled the loaded model, but the compiled metrics have yet to be built. `model.compile_metrics` will be empty until you train or evaluate the model.\n",
            "WARNING:absl:Compiled the loaded model, but the compiled metrics have yet to be built. `model.compile_metrics` will be empty until you train or evaluate the model.\n",
            "\u001b[1m25/25\u001b[0m \u001b[32m━━━━━━━━━━━━━━━━━━━━\u001b[0m\u001b[37m\u001b[0m \u001b[1m3s\u001b[0m 120ms/step\n",
            "=== Eye Model Evaluation ===\n",
            "Confusion Matrix:\n",
            "[[507  11]\n",
            " [197  62]]\n",
            "Classification Report:\n",
            "              precision    recall  f1-score   support\n",
            "\n",
            "           0       0.72      0.98      0.83       518\n",
            "           1       0.85      0.24      0.37       259\n",
            "\n",
            "    accuracy                           0.73       777\n",
            "   macro avg       0.78      0.61      0.60       777\n",
            "weighted avg       0.76      0.73      0.68       777\n",
            "\n",
            "\u001b[1m25/25\u001b[0m \u001b[32m━━━━━━━━━━━━━━━━━━━━\u001b[0m\u001b[37m\u001b[0m \u001b[1m2s\u001b[0m 63ms/step\n",
            "=== Yawn Model Evaluation ===\n",
            "Confusion Matrix:\n",
            "[[208 310]\n",
            " [  9 250]]\n",
            "Classification Report:\n",
            "              precision    recall  f1-score   support\n",
            "\n",
            "           0       0.96      0.40      0.57       518\n",
            "           1       0.45      0.97      0.61       259\n",
            "\n",
            "    accuracy                           0.59       777\n",
            "   macro avg       0.70      0.68      0.59       777\n",
            "weighted avg       0.79      0.59      0.58       777\n",
            "\n",
            "✅ Evaluation completed and results logged to ClearML.\n"
          ]
        }
      ],
      "source": [
        "#Evaluate both Eye and Yawn models on test data\n",
        "!python model_evaluation.py"
      ]
    },
    {
      "cell_type": "markdown",
      "metadata": {
        "id": "CqIbdJVwdeGs"
      },
      "source": [
        "## 5. Debugging (if needed)\n",
        "\n",
        "If you encounter any issues, use these debugging tools."
      ]
    },
    {
      "cell_type": "code",
      "execution_count": null,
      "metadata": {
        "colab": {
          "base_uri": "https://localhost:8080/"
        },
        "id": "2t-kDBK5s7yC",
        "outputId": "5e9259c0-b51a-484e-b4ee-64baccc22179"
      },
      "outputs": [
        {
          "name": "stdout",
          "output_type": "stream",
          "text": [
            "^C\n"
          ]
        }
      ],
      "source": [
        "!tail -f agent_log.txt"
      ]
    },
    {
      "cell_type": "code",
      "execution_count": null,
      "metadata": {
        "id": "gF9lw6A9deGs"
      },
      "outputs": [],
      "source": [
        "# Run diagnostic utilities\n",
        "!python clearml_debug_utils.py"
      ]
    },
    {
      "cell_type": "code",
      "execution_count": null,
      "metadata": {
        "id": "j_Bf277ldeGs"
      },
      "outputs": [],
      "source": [
        "# Check ClearML status\n",
        "!clearml-status"
      ]
    },
    {
      "cell_type": "code",
      "execution_count": null,
      "metadata": {
        "id": "on2Vj0m2deGs"
      },
      "outputs": [],
      "source": [
        "# Check ClearML agent status\n",
        "!clearml-agent status"
      ]
    },
    {
      "cell_type": "code",
      "execution_count": null,
      "metadata": {
        "id": "Wxb9sdCwdeGs"
      },
      "outputs": [],
      "source": [
        "# List ClearML tasks\n",
        "!clearml-task list --project \"BNM Pipeline\""
      ]
    },
    {
      "cell_type": "markdown",
      "metadata": {
        "id": "4B4hbRP6deGs"
      },
      "source": [
        "## Important Notes:\n",
        "\n",
        "1. Make sure the \"BNM01\" queue exists in your ClearML server\n",
        "2. The numpy version is fixed to a range that exists (>=1.19.5,<2.0.0) in all task files\n",
        "3. Each task handles its own dependencies using `task.add_requirements()`\n",
        "4. The pipeline controller is set to use the \"BNM01\" queue"
      ]
    },
    {
      "cell_type": "code",
      "execution_count": null,
      "metadata": {
        "colab": {
          "base_uri": "https://localhost:8080/"
        },
        "id": "SHHrCQ678cFq",
        "outputId": "3bd59652-1fff-4cb7-ee3f-6583dcc04ad9"
      },
      "outputs": [
        {
          "name": "stdout",
          "output_type": "stream",
          "text": [
            "['X_train_feat', 'X_test_feat']\n"
          ]
        }
      ],
      "source": [
        "import numpy as np\n",
        "data = np.load(\"/content/drive/MyDrive/AI Studio/BNM_pipeline_ArtifactUsed/features.npz\")\n",
        "print(data.files)\n"
      ]
    },
    {
      "cell_type": "code",
      "execution_count": null,
      "metadata": {
        "id": "CCxSMwy58wJB"
      },
      "outputs": [],
      "source": []
    }
  ],
  "metadata": {
    "colab": {
      "provenance": []
    },
    "kernelspec": {
      "display_name": "Python 3",
      "language": "python",
      "name": "python3"
    },
    "language_info": {
      "codemirror_mode": {
        "name": "ipython",
        "version": 3
      },
      "file_extension": ".py",
      "mimetype": "text/x-python",
      "name": "python",
      "nbconvert_exporter": "python",
      "pygments_lexer": "ipython3",
      "version": "3.8.10"
    }
  },
  "nbformat": 4,
  "nbformat_minor": 0
}